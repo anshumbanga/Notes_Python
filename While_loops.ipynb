{
 "cells": [
  {
   "cell_type": "markdown",
   "id": "79d3cff8-c6f2-417b-9d9e-dc006106808e",
   "metadata": {},
   "source": [
    "# Today's topic \n",
    "- what are while loops ?\n",
    "- while loops\n",
    "- why while loops are used ?"
   ]
  },
  {
   "cell_type": "markdown",
   "id": "865b6edd-b9f4-48f3-8624-a73245e31608",
   "metadata": {},
   "source": [
    "## Defination\n",
    "A while loop in Python is a control flow statement that allows you to repeatedly execute a block of code as long as a specified condition remains true. This type of loop is used when you want to continue performing a task until a certain condition is no longer met. The syntax of a while loop in Python is as follows:\n",
    "\n",
    "**while condition:**\r",
    "** code block to execute while condition is tru**\r\n"
   ]
  },
  {
   "cell_type": "markdown",
   "id": "46c47332-c6a4-4563-b2eb-49e73836b049",
   "metadata": {},
   "source": [
    "## Why While loops are used in python \n",
    "\n",
    "Certainly, here's a concise summary of why while loops are used in Python instead of for loops, presented in bullet points:\n",
    "\n",
    "- **Unknown Iteration Count:** When the number of iterations isn't predetermined or known beforehand.\n",
    "- **Dynamic Conditions:** Suitable for conditions that may change during execution, making the loop's termination variable.\n",
    "- **Conditional Iteration:** Allows iteration based on conditions other than sequence traversal.\n",
    "- **Complex Loop Logic:** Ideal for expressing intricate logic or multi-condition-based iteration.\n",
    "- **Stopping Criteria:** Provides a straightforward way to define termination conditions unrelated to sequence length or index."
   ]
  },
  {
   "cell_type": "code",
   "execution_count": 1,
   "id": "7b8ed8fc-215d-4932-929e-69b30766dfa2",
   "metadata": {},
   "outputs": [
    {
     "name": "stdout",
     "output_type": "stream",
     "text": [
      "0\n",
      "1\n",
      "2\n"
     ]
    }
   ],
   "source": [
    "# lets say we made \n",
    "\n",
    "for i in range(3):\n",
    "    print(i)"
   ]
  },
  {
   "cell_type": "code",
   "execution_count": 3,
   "id": "0192ba03-bb4b-4586-b1fe-57c4855dbcd3",
   "metadata": {},
   "outputs": [
    {
     "name": "stdout",
     "output_type": "stream",
     "text": [
      "0\n",
      "1\n",
      "2\n"
     ]
    }
   ],
   "source": [
    "i = 0\n",
    "while (i<3):\n",
    "    print(i)\n",
    "    i+=1"
   ]
  },
  {
   "cell_type": "code",
   "execution_count": 4,
   "id": "f0f80c2e-a936-4a84-8765-fadfb66e4280",
   "metadata": {},
   "outputs": [
    {
     "name": "stdout",
     "output_type": "stream",
     "text": [
      "0\n",
      "1\n",
      "2\n",
      "done with the loop\n"
     ]
    }
   ],
   "source": [
    "i = 0\n",
    "while (i<3):\n",
    "    print(i)\n",
    "    i+=1\n",
    "\n",
    "print(\"done with the loop\")"
   ]
  },
  {
   "cell_type": "code",
   "execution_count": 9,
   "id": "b5e56e9a-12bd-4656-99c7-51c5ff795ef8",
   "metadata": {},
   "outputs": [
    {
     "name": "stdin",
     "output_type": "stream",
     "text": [
      "Enter a number 87\n"
     ]
    },
    {
     "name": "stdout",
     "output_type": "stream",
     "text": [
      "end\n"
     ]
    }
   ],
   "source": [
    "# now we will make a program that would take number till number 20 or more that 20 is given\n",
    "\n",
    "i = 0\n",
    "while i<20:\n",
    "    i = int(input(\"Enter a number\"))\n",
    "    i+=1\n",
    "\n",
    "print(\"end\")"
   ]
  },
  {
   "cell_type": "markdown",
   "id": "f2d348eb-993a-4eca-914c-2c6e9331432f",
   "metadata": {},
   "source": [
    "- as soon as the condition becomes false, the interpreter will come outside the loop "
   ]
  },
  {
   "cell_type": "code",
   "execution_count": 10,
   "id": "945404c4-9e4b-449e-b15e-51f3cbdf07c9",
   "metadata": {},
   "outputs": [
    {
     "name": "stdout",
     "output_type": "stream",
     "text": [
      "10\n",
      "9\n",
      "8\n",
      "7\n",
      "6\n",
      "5\n",
      "4\n",
      "3\n",
      "2\n",
      "1\n",
      "end of loop\n"
     ]
    }
   ],
   "source": [
    "# decrementing loop \n",
    "\n",
    "count = 10\n",
    "while count>0:\n",
    "    print(count)\n",
    "    count-=1\n",
    "print(\"end of loop\")"
   ]
  },
  {
   "cell_type": "code",
   "execution_count": 12,
   "id": "69b9ed6d-33d1-44df-b68e-97c600ae7dd8",
   "metadata": {},
   "outputs": [
    {
     "name": "stdout",
     "output_type": "stream",
     "text": [
      "num is zero\n"
     ]
    }
   ],
   "source": [
    "#while with else \n",
    "# lets say maanlo agr while mein nhi gaya to else mein jayega\n",
    "\n",
    "while count>0:\n",
    "    print(count)\n",
    "    count-=1\n",
    "else:\n",
    "    print(\"num is zero\")"
   ]
  },
  {
   "cell_type": "code",
   "execution_count": 13,
   "id": "0718c171-6a81-415e-b8a9-49bd8c05ac21",
   "metadata": {},
   "outputs": [
    {
     "name": "stdout",
     "output_type": "stream",
     "text": [
      "Counter value: 0\n",
      "Counter value: 1\n",
      "Counter value: 2\n",
      "Counter value: 3\n",
      "Counter value: 4\n",
      "Loop finished\n"
     ]
    }
   ],
   "source": [
    "#break\n",
    "counter = 0\n",
    "\n",
    "while True:  # Infinite loop\n",
    "    print(f\"Counter value: {counter}\")\n",
    "    counter += 1\n",
    "\n",
    "    if counter >= 5:\n",
    "        break  # Exit the loop when counter reaches 5\n",
    "\n",
    "print(\"Loop finished\")"
   ]
  },
  {
   "cell_type": "code",
   "execution_count": null,
   "id": "d2a1377a-397c-4431-8b05-43184c918ffe",
   "metadata": {},
   "outputs": [],
   "source": [
    "#continue\n",
    "counter = 0\n",
    "\n",
    "while counter < 5:\n",
    "    counter += 1\n",
    "\n",
    "    if counter == 3:\n",
    "        continue  # Skip the current iteration when counter is 3\n",
    "\n",
    "    print(f\"Counter value: {counter}\")\n",
    "\n",
    "print(\"Loop finished\")\n"
   ]
  }
 ],
 "metadata": {
  "kernelspec": {
   "display_name": "Python 3 (ipykernel)",
   "language": "python",
   "name": "python3"
  },
  "language_info": {
   "codemirror_mode": {
    "name": "ipython",
    "version": 3
   },
   "file_extension": ".py",
   "mimetype": "text/x-python",
   "name": "python",
   "nbconvert_exporter": "python",
   "pygments_lexer": "ipython3",
   "version": "3.11.7"
  }
 },
 "nbformat": 4,
 "nbformat_minor": 5
}
