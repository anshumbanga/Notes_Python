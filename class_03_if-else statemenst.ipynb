{
 "cells": [
  {
   "cell_type": "markdown",
   "id": "6a310d1a",
   "metadata": {},
   "source": [
    "# Descision Making in python \n",
    "# which is if-else conditions in python \n",
    "\n",
    "  lets say hum bachpan mein descision make kia krte the ki agar barish hogi to hum school ni jayenge or baarish nhi hogi to humein jaana pdega "
   ]
  },
  {
   "cell_type": "code",
   "execution_count": 1,
   "id": "78671115",
   "metadata": {},
   "outputs": [],
   "source": [
    "# if \n",
    "# Else \n",
    "# elif "
   ]
  },
  {
   "cell_type": "code",
   "execution_count": 2,
   "id": "30b5768b",
   "metadata": {},
   "outputs": [
    {
     "name": "stdout",
     "output_type": "stream",
     "text": [
      "Enter input 23\n"
     ]
    }
   ],
   "source": [
    "a = int(input(\"Enter input \"))"
   ]
  },
  {
   "cell_type": "code",
   "execution_count": 3,
   "id": "1e77848d",
   "metadata": {},
   "outputs": [
    {
     "name": "stdout",
     "output_type": "stream",
     "text": [
      "Your age is 23\n"
     ]
    }
   ],
   "source": [
    "print('Your age is',a)"
   ]
  },
  {
   "cell_type": "code",
   "execution_count": 7,
   "id": "b540aa66",
   "metadata": {},
   "outputs": [
    {
     "name": "stdout",
     "output_type": "stream",
     "text": [
      "You can drive\n"
     ]
    }
   ],
   "source": [
    "# what we can do conditionally tell the person according to their age weather they could drive or not \n",
    "\n",
    "if a>18:\n",
    "    print('You can drive')\n",
    "else:\n",
    "    print(\"You cannot Drive\")"
   ]
  },
  {
   "cell_type": "code",
   "execution_count": 8,
   "id": "0e342fd2",
   "metadata": {},
   "outputs": [
    {
     "ename": "SyntaxError",
     "evalue": "invalid syntax (2412693479.py, line 3)",
     "output_type": "error",
     "traceback": [
      "\u001b[1;36m  Cell \u001b[1;32mIn[8], line 3\u001b[1;36m\u001b[0m\n\u001b[1;33m    >,<, ==, >=,<=\u001b[0m\n\u001b[1;37m    ^\u001b[0m\n\u001b[1;31mSyntaxError\u001b[0m\u001b[1;31m:\u001b[0m invalid syntax\n"
     ]
    }
   ],
   "source": [
    "# which were comparision operators \n",
    "\n",
    ">,<, ==, >=,<=, !="
   ]
  },
  {
   "cell_type": "code",
   "execution_count": 9,
   "id": "4836b86e",
   "metadata": {},
   "outputs": [
    {
     "name": "stdout",
     "output_type": "stream",
     "text": [
      "True\n",
      "False\n",
      "False\n",
      "False\n",
      "True\n"
     ]
    }
   ],
   "source": [
    "print(18<a)\n",
    "print(18>a)\n",
    "print(18==a)\n",
    "print(18>=a)\n",
    "print(18<=a)"
   ]
  },
  {
   "cell_type": "code",
   "execution_count": 10,
   "id": "f25c54eb",
   "metadata": {},
   "outputs": [],
   "source": [
    "# jo hamara if else hai wo hmara conditional operator leta hai, or true or basis pe work krta hai \n",
    "# aap log abhi ye soch rhe hong ye space kyu de rkhi hai, ye colon kyu lgaya hai , agr isse hata denge to kya hoga, \n",
    "# Example deke\n",
    "# isse hum kehte hai identation \n",
    "\n"
   ]
  },
  {
   "cell_type": "code",
   "execution_count": 13,
   "id": "8abcde3a",
   "metadata": {},
   "outputs": [
    {
     "name": "stdout",
     "output_type": "stream",
     "text": [
      "Yes you are eligible to drive\n",
      "yes\n"
     ]
    }
   ],
   "source": [
    "if a>=18:\n",
    "    print(\"Yes you are eligible to drive\")\n",
    "    print('yes')\n",
    "else:\n",
    "    print('not drive')"
   ]
  },
  {
   "cell_type": "code",
   "execution_count": 14,
   "id": "068f96f9",
   "metadata": {},
   "outputs": [],
   "source": [
    "# for example agr main aisi age leta hu jo 18 se neeche hai \n",
    "\n",
    "a= 13"
   ]
  },
  {
   "cell_type": "code",
   "execution_count": 15,
   "id": "90e7ce68",
   "metadata": {},
   "outputs": [
    {
     "name": "stdout",
     "output_type": "stream",
     "text": [
      "not drive\n"
     ]
    }
   ],
   "source": [
    "if a>=18:\n",
    "    print(\"Yes you are eligible to drive\")\n",
    "    print('yes')\n",
    "else:\n",
    "    print('not drive')"
   ]
  },
  {
   "cell_type": "code",
   "execution_count": 16,
   "id": "6efed583",
   "metadata": {},
   "outputs": [
    {
     "name": "stdout",
     "output_type": "stream",
     "text": [
      "not drive\n",
      "No\n"
     ]
    }
   ],
   "source": [
    "if a>=18:\n",
    "    print(\"Yes you are eligible to drive\")\n",
    "    print('yes')\n",
    "else:\n",
    "    print('not drive')\n",
    "    print('No')"
   ]
  },
  {
   "cell_type": "code",
   "execution_count": 18,
   "id": "bd8ccac7",
   "metadata": {},
   "outputs": [
    {
     "name": "stdout",
     "output_type": "stream",
     "text": [
      "Do not add bananas to the cart\n"
     ]
    }
   ],
   "source": [
    "# price of commodity vs budget \n",
    "\n",
    "banana= 210\n",
    "budget= 200\n",
    "\n",
    "if banana<budget:\n",
    "    print('Add bananas to the cart')\n",
    "else:\n",
    "    print(\"Do not add bananas to the cart\")"
   ]
  },
  {
   "cell_type": "code",
   "execution_count": null,
   "id": "95d3c885",
   "metadata": {},
   "outputs": [],
   "source": [
    "# even odd \n",
    "\n",
    "# positive negative number \n",
    "\n",
    "# calculator exercise deni ha "
   ]
  }
 ],
 "metadata": {
  "kernelspec": {
   "display_name": "Python 3 (ipykernel)",
   "language": "python",
   "name": "python3"
  },
  "language_info": {
   "codemirror_mode": {
    "name": "ipython",
    "version": 3
   },
   "file_extension": ".py",
   "mimetype": "text/x-python",
   "name": "python",
   "nbconvert_exporter": "python",
   "pygments_lexer": "ipython3",
   "version": "3.11.5"
  }
 },
 "nbformat": 4,
 "nbformat_minor": 5
}
