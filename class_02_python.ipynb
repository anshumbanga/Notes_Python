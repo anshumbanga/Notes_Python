{
 "cells": [
  {
   "cell_type": "markdown",
   "id": "61f1f3be",
   "metadata": {},
   "source": [
    "# Last Class \n",
    "- Variable \n",
    "- Data Types \n",
    "- Escape Sequence(\\n,\\t,\\')\n",
    "- Type casting"
   ]
  },
  {
   "cell_type": "markdown",
   "id": "accca7cd",
   "metadata": {},
   "source": [
    "# Topics for today\n",
    "- Implicit Typecasting \n",
    "- Input \n",
    "- Strings \n",
    "- Indexing\n",
    "- Slicing\n",
    "- Strings Method "
   ]
  },
  {
   "cell_type": "markdown",
   "id": "d0df7ab5",
   "metadata": {},
   "source": [
    "# Implicit Type casting \n",
    "\n",
    "Data types in python do not have the same level i.e. ordering of data types is not the same in python. Some of the data types have higher-order, and some have lower order. While performing any operations on variable's data types will be changed to the higher data types. According to the level, one data type is converted into other by the python interpreter itself(Automatically). This is called implicit typecasting in python.\n",
    "\"\n",
    "Python converts a smaller data type to a higher data type to prevent data loss.\n",
    "\n",
    "1. string\n",
    "2. float \n",
    "3. int"
   ]
  },
  {
   "cell_type": "code",
   "execution_count": 3,
   "id": "800e5f78",
   "metadata": {},
   "outputs": [],
   "source": [
    "a = 4.5    #float data type\n",
    "b = 2    #int data type"
   ]
  },
  {
   "cell_type": "code",
   "execution_count": 5,
   "id": "c60c0043",
   "metadata": {},
   "outputs": [],
   "source": [
    "c = a + b     #addition, will change ->  higher order data type i.e. int-> float "
   ]
  },
  {
   "cell_type": "code",
   "execution_count": 6,
   "id": "bfe2c4f7",
   "metadata": {},
   "outputs": [
    {
     "data": {
      "text/plain": [
       "6.5"
      ]
     },
     "execution_count": 6,
     "metadata": {},
     "output_type": "execute_result"
    }
   ],
   "source": [
    "c"
   ]
  },
  {
   "cell_type": "code",
   "execution_count": 7,
   "id": "6d0bce41",
   "metadata": {},
   "outputs": [
    {
     "data": {
      "text/plain": [
       "float"
      ]
     },
     "execution_count": 7,
     "metadata": {},
     "output_type": "execute_result"
    }
   ],
   "source": [
    "type(c)"
   ]
  },
  {
   "cell_type": "code",
   "execution_count": 11,
   "id": "92673d93",
   "metadata": {},
   "outputs": [
    {
     "name": "stdout",
     "output_type": "stream",
     "text": [
      "Enter your first name Anshum\n",
      "Enter your last name Banga\n"
     ]
    }
   ],
   "source": [
    "# Input\n",
    "\n",
    "fname = input('Enter your first name ')\n",
    "lname = input('Enter your last name ')\n",
    "space = ' '"
   ]
  },
  {
   "cell_type": "code",
   "execution_count": 12,
   "id": "0d9cf8cf",
   "metadata": {},
   "outputs": [
    {
     "name": "stdout",
     "output_type": "stream",
     "text": [
      "Your name is  Anshum Banga\n"
     ]
    }
   ],
   "source": [
    "print('Your name is ',fname+space+lname)"
   ]
  },
  {
   "cell_type": "code",
   "execution_count": 13,
   "id": "da81ed85",
   "metadata": {},
   "outputs": [
    {
     "name": "stdout",
     "output_type": "stream",
     "text": [
      "Enter First number 23\n",
      "Enter Second number 20\n"
     ]
    }
   ],
   "source": [
    "a = input('Enter First number ')\n",
    "b = input('Enter Second number ')\n",
    "c = a+b "
   ]
  },
  {
   "cell_type": "code",
   "execution_count": 14,
   "id": "d43f038d",
   "metadata": {},
   "outputs": [
    {
     "name": "stdout",
     "output_type": "stream",
     "text": [
      "The Addition of a and b is  2320\n"
     ]
    }
   ],
   "source": [
    "print('The Addition of a and b is ',c)"
   ]
  },
  {
   "cell_type": "markdown",
   "id": "f2970326",
   "metadata": {},
   "source": [
    "- by default input it consideres values as string objects "
   ]
  },
  {
   "cell_type": "markdown",
   "id": "873ba128",
   "metadata": {},
   "source": [
    "With the help of typecasting we could change the data types of input as well"
   ]
  },
  {
   "cell_type": "code",
   "execution_count": 15,
   "id": "cfefd22b",
   "metadata": {},
   "outputs": [
    {
     "name": "stdout",
     "output_type": "stream",
     "text": [
      "Enter First number 23\n",
      "Enter Second number 20\n"
     ]
    }
   ],
   "source": [
    "a = int(input('Enter First number '))\n",
    "b = int(input('Enter Second number '))\n",
    "c = a+b "
   ]
  },
  {
   "cell_type": "code",
   "execution_count": 16,
   "id": "47f69cbe",
   "metadata": {},
   "outputs": [
    {
     "name": "stdout",
     "output_type": "stream",
     "text": [
      "The Addition of a and b is  43\n"
     ]
    }
   ],
   "source": [
    "print('The Addition of a and b is ',c)"
   ]
  },
  {
   "cell_type": "code",
   "execution_count": 27,
   "id": "af1fc8d8",
   "metadata": {},
   "outputs": [
    {
     "name": "stdout",
     "output_type": "stream",
     "text": [
      "Enter First number 89.99\n",
      "Enter Second number 767.9889\n"
     ]
    }
   ],
   "source": [
    "a = float(input('Enter First number '))\n",
    "b = float(input('Enter Second number '))\n",
    "c = a+b "
   ]
  },
  {
   "cell_type": "code",
   "execution_count": 28,
   "id": "2b57e9ae",
   "metadata": {},
   "outputs": [
    {
     "name": "stdout",
     "output_type": "stream",
     "text": [
      "The Addition of a and b is  857.9789\n"
     ]
    }
   ],
   "source": [
    "print('The Addition of a and b is ',c)"
   ]
  },
  {
   "cell_type": "code",
   "execution_count": 29,
   "id": "eee7ada0",
   "metadata": {},
   "outputs": [
    {
     "data": {
      "text/plain": [
       "float"
      ]
     },
     "execution_count": 29,
     "metadata": {},
     "output_type": "execute_result"
    }
   ],
   "source": [
    "type(c)"
   ]
  },
  {
   "cell_type": "markdown",
   "id": "04f74f59",
   "metadata": {},
   "source": [
    "# Strings \n",
    "\n",
    "- **Immutable**, i.e. it cannot be changed once done."
   ]
  },
  {
   "cell_type": "code",
   "execution_count": 30,
   "id": "073a2119",
   "metadata": {},
   "outputs": [],
   "source": [
    "# \"......\"\n",
    "# '......'\n",
    "# '''......'''\n",
    "\n",
    "Str1 = \"Anshum\"\n",
    "Str2 = 'Shruti'"
   ]
  },
  {
   "cell_type": "code",
   "execution_count": 31,
   "id": "f829b846",
   "metadata": {},
   "outputs": [
    {
     "data": {
      "text/plain": [
       "'Anshum'"
      ]
     },
     "execution_count": 31,
     "metadata": {},
     "output_type": "execute_result"
    }
   ],
   "source": [
    "Str1"
   ]
  },
  {
   "cell_type": "code",
   "execution_count": 33,
   "id": "2a267502",
   "metadata": {},
   "outputs": [
    {
     "data": {
      "text/plain": [
       "'Shruti'"
      ]
     },
     "execution_count": 33,
     "metadata": {},
     "output_type": "execute_result"
    }
   ],
   "source": [
    "Str2"
   ]
  },
  {
   "cell_type": "code",
   "execution_count": 35,
   "id": "31611bfb",
   "metadata": {},
   "outputs": [],
   "source": [
    "str3 = '''Python is a high-level, general-purpose, and very popular programming language. \n",
    "Python programming language (latest Python 3) is being used in web development, and Machine Learning applications, \n",
    "along with all cutting-edge technology in Software Industry.'''"
   ]
  },
  {
   "cell_type": "code",
   "execution_count": 36,
   "id": "23071114",
   "metadata": {},
   "outputs": [
    {
     "name": "stdout",
     "output_type": "stream",
     "text": [
      "Python is a high-level, general-purpose, and very popular programming language. \n",
      "Python programming language (latest Python 3) is being used in web development, and Machine Learning applications, \n",
      "along with all cutting-edge technology in Software Industry.\n"
     ]
    }
   ],
   "source": [
    "print(str3)"
   ]
  },
  {
   "cell_type": "code",
   "execution_count": 37,
   "id": "ea9e1f9b",
   "metadata": {},
   "outputs": [],
   "source": [
    "str4 = \"Anshum doesn't likes to study\""
   ]
  },
  {
   "cell_type": "code",
   "execution_count": 38,
   "id": "7ece8612",
   "metadata": {},
   "outputs": [
    {
     "name": "stdout",
     "output_type": "stream",
     "text": [
      "Anshum doesn't likes to study\n"
     ]
    }
   ],
   "source": [
    "print(str4)"
   ]
  },
  {
   "cell_type": "code",
   "execution_count": 40,
   "id": "71be46d9",
   "metadata": {},
   "outputs": [],
   "source": [
    "str5 = 'Anshum said,\"I will come in 15 minutes\"'"
   ]
  },
  {
   "cell_type": "code",
   "execution_count": 41,
   "id": "91facdca",
   "metadata": {},
   "outputs": [
    {
     "name": "stdout",
     "output_type": "stream",
     "text": [
      "Anshum said,\"I will come in 15 minutes\"\n"
     ]
    }
   ],
   "source": [
    "print(str5)"
   ]
  },
  {
   "cell_type": "markdown",
   "id": "0bbcd28d",
   "metadata": {},
   "source": [
    "# Indexing \n",
    "\n",
    "The process of accessing a specific element in a sequence, such as a string or list, using its position or index number. **Indexing in Python starts at 0,** which means that the first element in a sequence has an index of 0, the second element has an index of 1,\n",
    "\n",
    "- we use block brackets[] to extract "
   ]
  },
  {
   "cell_type": "code",
   "execution_count": 42,
   "id": "8b8cc7c3",
   "metadata": {},
   "outputs": [],
   "source": [
    "str6 = 'Anita is a good girl'"
   ]
  },
  {
   "cell_type": "code",
   "execution_count": 43,
   "id": "35cef3d8",
   "metadata": {},
   "outputs": [
    {
     "data": {
      "text/plain": [
       "'A'"
      ]
     },
     "execution_count": 43,
     "metadata": {},
     "output_type": "execute_result"
    }
   ],
   "source": [
    "str6[0]"
   ]
  },
  {
   "cell_type": "code",
   "execution_count": 44,
   "id": "091c14e7",
   "metadata": {},
   "outputs": [
    {
     "data": {
      "text/plain": [
       "'g'"
      ]
     },
     "execution_count": 44,
     "metadata": {},
     "output_type": "execute_result"
    }
   ],
   "source": [
    "str6[11]"
   ]
  },
  {
   "cell_type": "code",
   "execution_count": 47,
   "id": "63689bc7",
   "metadata": {},
   "outputs": [
    {
     "data": {
      "text/plain": [
       "'l'"
      ]
     },
     "execution_count": 47,
     "metadata": {},
     "output_type": "execute_result"
    }
   ],
   "source": [
    "# Negative indexing \n",
    "# in negative indexing, numbers start from right and goes to left in order of -1, to infinity\n",
    "str6[-1]"
   ]
  },
  {
   "cell_type": "code",
   "execution_count": 45,
   "id": "154a013f",
   "metadata": {},
   "outputs": [
    {
     "name": "stdout",
     "output_type": "stream",
     "text": [
      "A\n",
      "n\n",
      "i\n",
      "t\n",
      "a\n",
      " \n",
      "i\n",
      "s\n",
      " \n",
      "a\n",
      " \n",
      "g\n",
      "o\n",
      "o\n",
      "d\n",
      " \n",
      "g\n",
      "i\n",
      "r\n",
      "l\n"
     ]
    }
   ],
   "source": [
    "# loops in indexing \n",
    "\n",
    "for i in str6:\n",
    "    print(i)"
   ]
  },
  {
   "cell_type": "markdown",
   "id": "02452559",
   "metadata": {},
   "source": [
    "# Slicing\n",
    "\n",
    "Python slicing is about obtaining a sub-string from the given string by slicing it respectively from start to end. \n",
    "\n",
    "**Syntax:** variable[start point: end point(terminating point) : gap]"
   ]
  },
  {
   "cell_type": "code",
   "execution_count": 46,
   "id": "8ea949a5",
   "metadata": {},
   "outputs": [
    {
     "data": {
      "text/plain": [
       "'Anita is a good girl'"
      ]
     },
     "execution_count": 46,
     "metadata": {},
     "output_type": "execute_result"
    }
   ],
   "source": [
    "str6"
   ]
  },
  {
   "cell_type": "code",
   "execution_count": 52,
   "id": "ff1bb201",
   "metadata": {},
   "outputs": [
    {
     "data": {
      "text/plain": [
       "'good'"
      ]
     },
     "execution_count": 52,
     "metadata": {},
     "output_type": "execute_result"
    }
   ],
   "source": [
    "str6[11:15:]"
   ]
  },
  {
   "cell_type": "code",
   "execution_count": 55,
   "id": "c279e5b9",
   "metadata": {},
   "outputs": [
    {
     "data": {
      "text/plain": [
       "'Anita is a'"
      ]
     },
     "execution_count": 55,
     "metadata": {},
     "output_type": "execute_result"
    }
   ],
   "source": [
    "# by default slcing starts from 0\n",
    "\n",
    "str6[:10]"
   ]
  },
  {
   "cell_type": "code",
   "execution_count": 57,
   "id": "9991f84a",
   "metadata": {},
   "outputs": [
    {
     "data": {
      "text/plain": [
       "'good girl'"
      ]
     },
     "execution_count": 57,
     "metadata": {},
     "output_type": "execute_result"
    }
   ],
   "source": [
    "# by default slcing ends at -1\n",
    "\n",
    "str6[11:]"
   ]
  },
  {
   "cell_type": "code",
   "execution_count": 58,
   "id": "8d8a4f3a",
   "metadata": {},
   "outputs": [],
   "source": [
    "# gap \n",
    "\n",
    "str7 = '123456789'"
   ]
  },
  {
   "cell_type": "code",
   "execution_count": 60,
   "id": "b2b3bc68",
   "metadata": {},
   "outputs": [
    {
     "data": {
      "text/plain": [
       "'13579'"
      ]
     },
     "execution_count": 60,
     "metadata": {},
     "output_type": "execute_result"
    }
   ],
   "source": [
    "# find odd number from the string \n",
    "str7[::2]"
   ]
  },
  {
   "cell_type": "code",
   "execution_count": 61,
   "id": "b023fef1",
   "metadata": {},
   "outputs": [
    {
     "data": {
      "text/plain": [
       "'9'"
      ]
     },
     "execution_count": 61,
     "metadata": {},
     "output_type": "execute_result"
    }
   ],
   "source": [
    "# negative slicing \n",
    "# by default it goes from 0 to infinty\n",
    "\n",
    "str7[-1::]"
   ]
  },
  {
   "cell_type": "code",
   "execution_count": 64,
   "id": "7f99e976",
   "metadata": {},
   "outputs": [
    {
     "data": {
      "text/plain": [
       "'987654321'"
      ]
     },
     "execution_count": 64,
     "metadata": {},
     "output_type": "execute_result"
    }
   ],
   "source": [
    "# negative slicing \n",
    "\n",
    "str7[::-1]"
   ]
  },
  {
   "cell_type": "code",
   "execution_count": 66,
   "id": "451d2334",
   "metadata": {},
   "outputs": [
    {
     "data": {
      "text/plain": [
       "'98765'"
      ]
     },
     "execution_count": 66,
     "metadata": {},
     "output_type": "execute_result"
    }
   ],
   "source": [
    "str7[:-6:-1]"
   ]
  },
  {
   "cell_type": "markdown",
   "id": "ee90ea78",
   "metadata": {},
   "source": [
    "# Strings methods\n",
    "\n",
    "- len \n",
    "- Upper\n",
    "- lower \n",
    "- rstrip\n",
    "- split\n",
    "- heading\n",
    "- capitalise\n",
    "- title \n",
    "- center\n",
    "- count \n",
    "- starswith \n",
    "- endswith \n",
    "- find \n",
    "- index\n",
    "- isalnum\n",
    "- asalpha\n",
    "- isprintable\n",
    "- isspace\n",
    "- isupper\n",
    "- islower\n",
    "- swapcasse"
   ]
  },
  {
   "cell_type": "code",
   "execution_count": 67,
   "id": "4f6b1648",
   "metadata": {},
   "outputs": [
    {
     "data": {
      "text/plain": [
       "'123456789'"
      ]
     },
     "execution_count": 67,
     "metadata": {},
     "output_type": "execute_result"
    }
   ],
   "source": [
    "# len: which tells us about the length of the string\n",
    "\n",
    "str7"
   ]
  },
  {
   "cell_type": "code",
   "execution_count": 68,
   "id": "2e9b8079",
   "metadata": {},
   "outputs": [
    {
     "data": {
      "text/plain": [
       "9"
      ]
     },
     "execution_count": 68,
     "metadata": {},
     "output_type": "execute_result"
    }
   ],
   "source": [
    "len(str7)"
   ]
  },
  {
   "cell_type": "code",
   "execution_count": 69,
   "id": "b02432c1",
   "metadata": {},
   "outputs": [],
   "source": [
    "# Upper\n",
    "\n",
    "str8 = \"anshum is a good boy\""
   ]
  },
  {
   "cell_type": "code",
   "execution_count": 70,
   "id": "f571268f",
   "metadata": {},
   "outputs": [
    {
     "data": {
      "text/plain": [
       "'ANSHUM IS A GOOD BOY'"
      ]
     },
     "execution_count": 70,
     "metadata": {},
     "output_type": "execute_result"
    }
   ],
   "source": [
    "# created\n",
    "\n",
    "str8.upper()"
   ]
  },
  {
   "cell_type": "code",
   "execution_count": 71,
   "id": "daec6aef",
   "metadata": {},
   "outputs": [
    {
     "data": {
      "text/plain": [
       "'anshum is a good boy'"
      ]
     },
     "execution_count": 71,
     "metadata": {},
     "output_type": "execute_result"
    }
   ],
   "source": [
    "# real\n",
    "str8"
   ]
  },
  {
   "cell_type": "code",
   "execution_count": 72,
   "id": "f08c71d5",
   "metadata": {},
   "outputs": [],
   "source": [
    "str8 = str8.upper() #over-writing"
   ]
  },
  {
   "cell_type": "code",
   "execution_count": 73,
   "id": "e5a9eb6a",
   "metadata": {},
   "outputs": [
    {
     "name": "stdout",
     "output_type": "stream",
     "text": [
      "ANSHUM IS A GOOD BOY\n"
     ]
    }
   ],
   "source": [
    "print(str8)"
   ]
  },
  {
   "cell_type": "code",
   "execution_count": 74,
   "id": "ba18923e",
   "metadata": {},
   "outputs": [
    {
     "data": {
      "text/plain": [
       "'anshum is a good boy'"
      ]
     },
     "execution_count": 74,
     "metadata": {},
     "output_type": "execute_result"
    }
   ],
   "source": [
    "# lower\n",
    "\n",
    "str8.lower()"
   ]
  },
  {
   "cell_type": "code",
   "execution_count": 77,
   "id": "8e3ae64c",
   "metadata": {},
   "outputs": [],
   "source": [
    "# Stripping\n",
    "\n",
    "#str8 = str8.rstrip('GOOD')"
   ]
  },
  {
   "cell_type": "code",
   "execution_count": 78,
   "id": "3d666371",
   "metadata": {},
   "outputs": [
    {
     "data": {
      "text/plain": [
       "'ANSHUM IS A GOOD BOY'"
      ]
     },
     "execution_count": 78,
     "metadata": {},
     "output_type": "execute_result"
    }
   ],
   "source": [
    "#str8"
   ]
  },
  {
   "cell_type": "code",
   "execution_count": 79,
   "id": "b62f780a",
   "metadata": {},
   "outputs": [
    {
     "data": {
      "text/plain": [
       "'Anshum'"
      ]
     },
     "execution_count": 79,
     "metadata": {},
     "output_type": "execute_result"
    }
   ],
   "source": [
    "str9 = \"Anshum!!!!!!!\"\n",
    "\n",
    "str9.rstrip('!')"
   ]
  },
  {
   "cell_type": "code",
   "execution_count": 81,
   "id": "6902a03a",
   "metadata": {},
   "outputs": [],
   "source": [
    "# split \n",
    "\n",
    "str8 = str8.lower()"
   ]
  },
  {
   "cell_type": "code",
   "execution_count": 82,
   "id": "5e34fe5a",
   "metadata": {},
   "outputs": [
    {
     "data": {
      "text/plain": [
       "'anshum is a good boy'"
      ]
     },
     "execution_count": 82,
     "metadata": {},
     "output_type": "execute_result"
    }
   ],
   "source": [
    "str8"
   ]
  },
  {
   "cell_type": "code",
   "execution_count": 83,
   "id": "c0b1dffe",
   "metadata": {},
   "outputs": [
    {
     "data": {
      "text/plain": [
       "['anshum', 'is', 'a', 'good', 'boy']"
      ]
     },
     "execution_count": 83,
     "metadata": {},
     "output_type": "execute_result"
    }
   ],
   "source": [
    "str8.split(\" \")"
   ]
  },
  {
   "cell_type": "code",
   "execution_count": 84,
   "id": "9daed115",
   "metadata": {},
   "outputs": [],
   "source": [
    "str9 = \"anshum_is_a_good_boy\""
   ]
  },
  {
   "cell_type": "code",
   "execution_count": 86,
   "id": "b50ec2f8",
   "metadata": {},
   "outputs": [
    {
     "data": {
      "text/plain": [
       "['anshum', 'is', 'a', 'good', 'boy']"
      ]
     },
     "execution_count": 86,
     "metadata": {},
     "output_type": "execute_result"
    }
   ],
   "source": [
    "str9.split(\"_\")"
   ]
  },
  {
   "cell_type": "code",
   "execution_count": 87,
   "id": "58f001c3",
   "metadata": {},
   "outputs": [],
   "source": [
    "# heading \n",
    "\n",
    "h1 = \"welcome to introduction of data science\""
   ]
  },
  {
   "cell_type": "code",
   "execution_count": 88,
   "id": "0322625f",
   "metadata": {},
   "outputs": [
    {
     "data": {
      "text/plain": [
       "'Welcome to introduction of data science'"
      ]
     },
     "execution_count": 88,
     "metadata": {},
     "output_type": "execute_result"
    }
   ],
   "source": [
    "# capitalize, first letter of first word will turn into upper case\n",
    "\n",
    "h1.capitalize()"
   ]
  },
  {
   "cell_type": "code",
   "execution_count": 89,
   "id": "bccd5cbc",
   "metadata": {},
   "outputs": [
    {
     "data": {
      "text/plain": [
       "'Welcome To Introduction Of Data Science'"
      ]
     },
     "execution_count": 89,
     "metadata": {},
     "output_type": "execute_result"
    }
   ],
   "source": [
    "# title \n",
    "\n",
    "h1.title()"
   ]
  },
  {
   "cell_type": "code",
   "execution_count": 93,
   "id": "fd77ab28",
   "metadata": {},
   "outputs": [
    {
     "data": {
      "text/plain": [
       "'                              welcome to introduction of data science                               '"
      ]
     },
     "execution_count": 93,
     "metadata": {},
     "output_type": "execute_result"
    }
   ],
   "source": [
    "# centre \n",
    "\n",
    "h1.center(100)"
   ]
  },
  {
   "cell_type": "code",
   "execution_count": 94,
   "id": "d909a054",
   "metadata": {},
   "outputs": [
    {
     "data": {
      "text/plain": [
       "1"
      ]
     },
     "execution_count": 94,
     "metadata": {},
     "output_type": "execute_result"
    }
   ],
   "source": [
    "# count\n",
    "\n",
    "h1.count('introduction')"
   ]
  },
  {
   "cell_type": "code",
   "execution_count": 95,
   "id": "35f03a69",
   "metadata": {},
   "outputs": [
    {
     "data": {
      "text/plain": [
       "1"
      ]
     },
     "execution_count": 95,
     "metadata": {},
     "output_type": "execute_result"
    }
   ],
   "source": [
    "h1.count('w')"
   ]
  },
  {
   "cell_type": "code",
   "execution_count": 96,
   "id": "fdbeca36",
   "metadata": {},
   "outputs": [
    {
     "data": {
      "text/plain": [
       "2"
      ]
     },
     "execution_count": 96,
     "metadata": {},
     "output_type": "execute_result"
    }
   ],
   "source": [
    "h1.count('a')"
   ]
  },
  {
   "cell_type": "code",
   "execution_count": 136,
   "id": "00ba8ed2",
   "metadata": {},
   "outputs": [
    {
     "data": {
      "text/plain": [
       "True"
      ]
     },
     "execution_count": 136,
     "metadata": {},
     "output_type": "execute_result"
    }
   ],
   "source": [
    "# startswith \n",
    "\n",
    "h1.startswith('w')"
   ]
  },
  {
   "cell_type": "code",
   "execution_count": 97,
   "id": "f59f12f5",
   "metadata": {},
   "outputs": [
    {
     "data": {
      "text/plain": [
       "True"
      ]
     },
     "execution_count": 97,
     "metadata": {},
     "output_type": "execute_result"
    }
   ],
   "source": [
    "# endswith\n",
    "\n",
    "h1.endswith('e')"
   ]
  },
  {
   "cell_type": "code",
   "execution_count": 98,
   "id": "edab4639",
   "metadata": {},
   "outputs": [
    {
     "data": {
      "text/plain": [
       "True"
      ]
     },
     "execution_count": 98,
     "metadata": {},
     "output_type": "execute_result"
    }
   ],
   "source": [
    "h1.endswith('science')"
   ]
  },
  {
   "cell_type": "code",
   "execution_count": 100,
   "id": "5a9f2607",
   "metadata": {},
   "outputs": [
    {
     "data": {
      "text/plain": [
       "True"
      ]
     },
     "execution_count": 100,
     "metadata": {},
     "output_type": "execute_result"
    }
   ],
   "source": [
    "h1.endswith('introduction',11,23)"
   ]
  },
  {
   "cell_type": "code",
   "execution_count": 101,
   "id": "33796c7f",
   "metadata": {},
   "outputs": [
    {
     "data": {
      "text/plain": [
       "11"
      ]
     },
     "execution_count": 101,
     "metadata": {},
     "output_type": "execute_result"
    }
   ],
   "source": [
    "# find - most preferred, cuz it gives result even if the desired element is not present \n",
    "\n",
    "h1.find(\"introduction\")"
   ]
  },
  {
   "cell_type": "code",
   "execution_count": 104,
   "id": "9be5743b",
   "metadata": {},
   "outputs": [
    {
     "data": {
      "text/plain": [
       "-1"
      ]
     },
     "execution_count": 104,
     "metadata": {},
     "output_type": "execute_result"
    }
   ],
   "source": [
    "h1.find(\"basjhbdjhibs\") # it gives -1, when the element is not present "
   ]
  },
  {
   "cell_type": "code",
   "execution_count": 103,
   "id": "e6b2cce6",
   "metadata": {},
   "outputs": [
    {
     "data": {
      "text/plain": [
       "11"
      ]
     },
     "execution_count": 103,
     "metadata": {},
     "output_type": "execute_result"
    }
   ],
   "source": [
    "# index\n",
    "\n",
    "h1.index('introduction')   "
   ]
  },
  {
   "cell_type": "code",
   "execution_count": 105,
   "id": "7a9c3798",
   "metadata": {},
   "outputs": [
    {
     "ename": "ValueError",
     "evalue": "substring not found",
     "output_type": "error",
     "traceback": [
      "\u001b[1;31m---------------------------------------------------------------------------\u001b[0m",
      "\u001b[1;31mValueError\u001b[0m                                Traceback (most recent call last)",
      "Cell \u001b[1;32mIn[105], line 1\u001b[0m\n\u001b[1;32m----> 1\u001b[0m h1\u001b[38;5;241m.\u001b[39mindex(\u001b[38;5;124m\"\u001b[39m\u001b[38;5;124mbasjhbdjhibs\u001b[39m\u001b[38;5;124m\"\u001b[39m)\n",
      "\u001b[1;31mValueError\u001b[0m: substring not found"
     ]
    }
   ],
   "source": [
    "h1.index(\"basjhbdjhibs\")    #it throws error when the given element is not present "
   ]
  },
  {
   "cell_type": "code",
   "execution_count": 106,
   "id": "ec60f403",
   "metadata": {},
   "outputs": [],
   "source": [
    "# isalnum (1-9,A-Z,a-z) \n",
    "# says false when special characters(!,@,#,$,_) or even with spaces(  )"
   ]
  },
  {
   "cell_type": "code",
   "execution_count": 107,
   "id": "370649e9",
   "metadata": {},
   "outputs": [],
   "source": [
    "str10 = \"Anshum is a good boy\""
   ]
  },
  {
   "cell_type": "code",
   "execution_count": 108,
   "id": "ada6ab3b",
   "metadata": {},
   "outputs": [
    {
     "data": {
      "text/plain": [
       "False"
      ]
     },
     "execution_count": 108,
     "metadata": {},
     "output_type": "execute_result"
    }
   ],
   "source": [
    "str10.isalnum()"
   ]
  },
  {
   "cell_type": "code",
   "execution_count": 109,
   "id": "bed194df",
   "metadata": {},
   "outputs": [],
   "source": [
    "str10 = \"Anshum obtained 10 marks\""
   ]
  },
  {
   "cell_type": "code",
   "execution_count": 110,
   "id": "56c1a780",
   "metadata": {},
   "outputs": [
    {
     "data": {
      "text/plain": [
       "False"
      ]
     },
     "execution_count": 110,
     "metadata": {},
     "output_type": "execute_result"
    }
   ],
   "source": [
    "str10.isalnum()"
   ]
  },
  {
   "cell_type": "code",
   "execution_count": 115,
   "id": "7ebc73d0",
   "metadata": {},
   "outputs": [],
   "source": [
    "str10 = \"anshumisagoodboy\""
   ]
  },
  {
   "cell_type": "code",
   "execution_count": 116,
   "id": "297b2794",
   "metadata": {},
   "outputs": [
    {
     "data": {
      "text/plain": [
       "True"
      ]
     },
     "execution_count": 116,
     "metadata": {},
     "output_type": "execute_result"
    }
   ],
   "source": [
    "str10.isalnum()"
   ]
  },
  {
   "cell_type": "code",
   "execution_count": 121,
   "id": "59213811",
   "metadata": {},
   "outputs": [
    {
     "name": "stdout",
     "output_type": "stream",
     "text": [
      "anshumisagoodboy\n"
     ]
    },
    {
     "data": {
      "text/plain": [
       "True"
      ]
     },
     "execution_count": 121,
     "metadata": {},
     "output_type": "execute_result"
    }
   ],
   "source": [
    "# isaplha : alphanumeric (a-z, A-Z)\n",
    "print(str10)\n",
    "str10.isalpha()"
   ]
  },
  {
   "cell_type": "code",
   "execution_count": 124,
   "id": "07f00522",
   "metadata": {},
   "outputs": [
    {
     "data": {
      "text/plain": [
       "True"
      ]
     },
     "execution_count": 124,
     "metadata": {},
     "output_type": "execute_result"
    }
   ],
   "source": [
    "# inprintable \n",
    "str10\n",
    "str10.isprintable()"
   ]
  },
  {
   "cell_type": "code",
   "execution_count": 127,
   "id": "75efe138",
   "metadata": {},
   "outputs": [
    {
     "name": "stdout",
     "output_type": "stream",
     "text": [
      "anshum is a good boy \n",
      " and he likes to swim\n"
     ]
    }
   ],
   "source": [
    "str11 = \"anshum is a good boy \\n and he likes to swim\"\n",
    "print(str11)"
   ]
  },
  {
   "cell_type": "code",
   "execution_count": 126,
   "id": "7caba76f",
   "metadata": {},
   "outputs": [
    {
     "data": {
      "text/plain": [
       "False"
      ]
     },
     "execution_count": 126,
     "metadata": {},
     "output_type": "execute_result"
    }
   ],
   "source": [
    "str11.isprintable()"
   ]
  },
  {
   "cell_type": "code",
   "execution_count": 134,
   "id": "1b6c9133",
   "metadata": {},
   "outputs": [
    {
     "data": {
      "text/plain": [
       "True"
      ]
     },
     "execution_count": 134,
     "metadata": {},
     "output_type": "execute_result"
    }
   ],
   "source": [
    "# isspace : it tells us if the spaces are present or not \n",
    "\n",
    "str12= \"   \"\n",
    "str12.isspace()"
   ]
  },
  {
   "cell_type": "code",
   "execution_count": 137,
   "id": "38bd175f",
   "metadata": {},
   "outputs": [
    {
     "name": "stdout",
     "output_type": "stream",
     "text": [
      "anshum is a good boy \n",
      " and he likes to swim\n"
     ]
    },
    {
     "data": {
      "text/plain": [
       "False"
      ]
     },
     "execution_count": 137,
     "metadata": {},
     "output_type": "execute_result"
    }
   ],
   "source": [
    "# isupper and islower \n",
    "\n",
    "print(str11)\n",
    "str11.isupper()"
   ]
  },
  {
   "cell_type": "code",
   "execution_count": 138,
   "id": "60c39f69",
   "metadata": {},
   "outputs": [
    {
     "name": "stdout",
     "output_type": "stream",
     "text": [
      "ANSHUM IS A GOOD BOY \n",
      " AND HE LIKES TO SWIM\n"
     ]
    },
    {
     "data": {
      "text/plain": [
       "True"
      ]
     },
     "execution_count": 138,
     "metadata": {},
     "output_type": "execute_result"
    }
   ],
   "source": [
    "str11 = str11.upper()\n",
    "print(str11)\n",
    "str11.isupper()"
   ]
  },
  {
   "cell_type": "code",
   "execution_count": 141,
   "id": "20962391",
   "metadata": {},
   "outputs": [
    {
     "name": "stdout",
     "output_type": "stream",
     "text": [
      "anshum is a good boy \n",
      " and he likes to swim\n"
     ]
    },
    {
     "data": {
      "text/plain": [
       "True"
      ]
     },
     "execution_count": 141,
     "metadata": {},
     "output_type": "execute_result"
    }
   ],
   "source": [
    "# islower\n",
    "str11 = str11.lower()\n",
    "print(str11)\n",
    "str11.islower()"
   ]
  },
  {
   "cell_type": "code",
   "execution_count": 142,
   "id": "2354abe5",
   "metadata": {},
   "outputs": [
    {
     "data": {
      "text/plain": [
       "'WELCOME TO INTRODUCTION OF DATA SCIENCE'"
      ]
     },
     "execution_count": 142,
     "metadata": {},
     "output_type": "execute_result"
    }
   ],
   "source": [
    "# swapcase\n",
    "\n",
    "h1.swapcase()"
   ]
  },
  {
   "cell_type": "code",
   "execution_count": null,
   "id": "712266eb",
   "metadata": {},
   "outputs": [],
   "source": []
  }
 ],
 "metadata": {
  "kernelspec": {
   "display_name": "Python 3 (ipykernel)",
   "language": "python",
   "name": "python3"
  },
  "language_info": {
   "codemirror_mode": {
    "name": "ipython",
    "version": 3
   },
   "file_extension": ".py",
   "mimetype": "text/x-python",
   "name": "python",
   "nbconvert_exporter": "python",
   "pygments_lexer": "ipython3",
   "version": "3.11.5"
  }
 },
 "nbformat": 4,
 "nbformat_minor": 5
}
