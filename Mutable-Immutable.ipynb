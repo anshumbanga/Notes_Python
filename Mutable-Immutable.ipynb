{
 "cells": [
  {
   "cell_type": "markdown",
   "id": "2b08cb5a",
   "metadata": {},
   "source": [
    "# Mutable and Immutable \n",
    "\n",
    "\n",
    "# Mutable:\n",
    "Mutable is when something is changeable or have ability to change. In python, 'mutable' is the ability to change values. These are often objects that store a collection of data. for example, lists, sets, dictioneries, byte array, and array.\n",
    "\n",
    "- [] Lists\n",
    "- {} Sets \n",
    "- {key:values} Dictionery \n",
    "\n",
    "# Immutable:\n",
    "\n",
    "It is not possibe to alter the value of an object in python, it is known as immutable object. Once immutable object is created it's value remains permanent and unchangeable.\n",
    "\n",
    "for example:\n",
    "\n",
    "- () tuples \n",
    "- '' strings\n",
    "- Numbers"
   ]
  },
  {
   "cell_type": "code",
   "execution_count": 1,
   "id": "0259da79",
   "metadata": {},
   "outputs": [],
   "source": [
    "a = 2"
   ]
  },
  {
   "cell_type": "code",
   "execution_count": 2,
   "id": "bbd19cdc",
   "metadata": {},
   "outputs": [
    {
     "data": {
      "text/plain": [
       "140717622596424"
      ]
     },
     "execution_count": 2,
     "metadata": {},
     "output_type": "execute_result"
    }
   ],
   "source": [
    "id(a)"
   ]
  },
  {
   "cell_type": "code",
   "execution_count": 3,
   "id": "c378cde3",
   "metadata": {},
   "outputs": [],
   "source": [
    "a = 4"
   ]
  },
  {
   "cell_type": "code",
   "execution_count": 4,
   "id": "1e1118cb",
   "metadata": {},
   "outputs": [
    {
     "data": {
      "text/plain": [
       "140717622596488"
      ]
     },
     "execution_count": 4,
     "metadata": {},
     "output_type": "execute_result"
    }
   ],
   "source": [
    "id(a)"
   ]
  },
  {
   "cell_type": "code",
   "execution_count": 7,
   "id": "05259e2c",
   "metadata": {},
   "outputs": [],
   "source": [
    "a = [1,2,3,4,5,6]"
   ]
  },
  {
   "cell_type": "code",
   "execution_count": 8,
   "id": "e7e39eaf",
   "metadata": {},
   "outputs": [
    {
     "data": {
      "text/plain": [
       "2186603331840"
      ]
     },
     "execution_count": 8,
     "metadata": {},
     "output_type": "execute_result"
    }
   ],
   "source": [
    "id(a)"
   ]
  },
  {
   "cell_type": "code",
   "execution_count": 9,
   "id": "bd6f539f",
   "metadata": {},
   "outputs": [],
   "source": [
    "a.append(7)"
   ]
  },
  {
   "cell_type": "code",
   "execution_count": 10,
   "id": "2164bbc3",
   "metadata": {},
   "outputs": [
    {
     "data": {
      "text/plain": [
       "2186603331840"
      ]
     },
     "execution_count": 10,
     "metadata": {},
     "output_type": "execute_result"
    }
   ],
   "source": [
    "id(a)"
   ]
  },
  {
   "cell_type": "markdown",
   "id": "9ab18c6c",
   "metadata": {},
   "source": [
    "# Lists: Most important topic \n",
    "\n",
    "Lists => List is a collection of thing ,enclosed in [] and separated by commas(',').\n",
    "\n",
    "- It is mutable \n",
    "- It is Ordered \n",
    "- ALlows duplicate values \n",
    "- can have multiple data types in 1 variable \n",
    "\n",
    "In easy language, Jab v aap kisi entity mein 10, 15 cheezein rakhne chahte hai to aap list bana dete hai \n",
    "list of marks of students\n",
    "list of groceries \n",
    "\n",
    "ek page page par aap, sab kuch likh skte ho"
   ]
  },
  {
   "cell_type": "code",
   "execution_count": 12,
   "id": "fc3b297f",
   "metadata": {},
   "outputs": [],
   "source": [
    "l = [1,2,3,4]"
   ]
  },
  {
   "cell_type": "code",
   "execution_count": 13,
   "id": "9ff5eef7",
   "metadata": {},
   "outputs": [
    {
     "data": {
      "text/plain": [
       "[1, 2, 3, 4]"
      ]
     },
     "execution_count": 13,
     "metadata": {},
     "output_type": "execute_result"
    }
   ],
   "source": [
    "l"
   ]
  },
  {
   "cell_type": "code",
   "execution_count": 14,
   "id": "5e30a9ce",
   "metadata": {},
   "outputs": [
    {
     "data": {
      "text/plain": [
       "list"
      ]
     },
     "execution_count": 14,
     "metadata": {},
     "output_type": "execute_result"
    }
   ],
   "source": [
    "type(l)"
   ]
  },
  {
   "cell_type": "code",
   "execution_count": 15,
   "id": "a11f5cad",
   "metadata": {},
   "outputs": [],
   "source": [
    "#### why we are making this ? we are making this to store data at one place"
   ]
  },
  {
   "cell_type": "code",
   "execution_count": 16,
   "id": "05e31325",
   "metadata": {},
   "outputs": [
    {
     "data": {
      "text/plain": [
       "1"
      ]
     },
     "execution_count": 16,
     "metadata": {},
     "output_type": "execute_result"
    }
   ],
   "source": [
    "l[0]"
   ]
  },
  {
   "cell_type": "code",
   "execution_count": 18,
   "id": "2c639e8e",
   "metadata": {},
   "outputs": [],
   "source": [
    "marks = [10,20,30,40,50]"
   ]
  },
  {
   "cell_type": "code",
   "execution_count": 19,
   "id": "313ae8c3",
   "metadata": {},
   "outputs": [
    {
     "data": {
      "text/plain": [
       "[10, 20, 30, 40, 50]"
      ]
     },
     "execution_count": 19,
     "metadata": {},
     "output_type": "execute_result"
    }
   ],
   "source": [
    "marks "
   ]
  },
  {
   "cell_type": "markdown",
   "id": "7bde3995",
   "metadata": {},
   "source": [
    "- they are ordered "
   ]
  },
  {
   "cell_type": "code",
   "execution_count": 20,
   "id": "4b287a57",
   "metadata": {},
   "outputs": [],
   "source": [
    "# we can also pass string datatypes in this \n",
    "\n",
    "a = [1,2,3,4,5,'anshum']"
   ]
  },
  {
   "cell_type": "code",
   "execution_count": 21,
   "id": "f93a3c20",
   "metadata": {},
   "outputs": [],
   "source": [
    "# we can pass list in lists as well\n",
    "\n",
    "a = [1,2,3,4,'anshum',[1,2,3,4]]"
   ]
  },
  {
   "cell_type": "code",
   "execution_count": 22,
   "id": "d8a712a6",
   "metadata": {},
   "outputs": [
    {
     "data": {
      "text/plain": [
       "[1, 2, 3, 4, 'anshum', [1, 2, 3, 4]]"
      ]
     },
     "execution_count": 22,
     "metadata": {},
     "output_type": "execute_result"
    }
   ],
   "source": [
    "a"
   ]
  },
  {
   "cell_type": "code",
   "execution_count": 43,
   "id": "d3293150",
   "metadata": {},
   "outputs": [
    {
     "data": {
      "text/plain": [
       "30"
      ]
     },
     "execution_count": 43,
     "metadata": {},
     "output_type": "execute_result"
    }
   ],
   "source": [
    "marks[-3]"
   ]
  },
  {
   "cell_type": "code",
   "execution_count": 45,
   "id": "44211097",
   "metadata": {},
   "outputs": [
    {
     "name": "stdout",
     "output_type": "stream",
     "text": [
      "yes\n"
     ]
    }
   ],
   "source": [
    "if 30 in marks:\n",
    "    print('yes')"
   ]
  },
  {
   "cell_type": "code",
   "execution_count": 46,
   "id": "c27f1bd4",
   "metadata": {},
   "outputs": [
    {
     "name": "stdout",
     "output_type": "stream",
     "text": [
      "true\n"
     ]
    }
   ],
   "source": [
    "if \"nsh\" in 'anshum':\n",
    "    print('true')"
   ]
  },
  {
   "cell_type": "code",
   "execution_count": null,
   "id": "983212e1",
   "metadata": {},
   "outputs": [],
   "source": []
  },
  {
   "cell_type": "markdown",
   "id": "9846fd69",
   "metadata": {},
   "source": [
    "### list methods \n",
    "\n",
    "Append: it adds items at the end of your list "
   ]
  },
  {
   "cell_type": "code",
   "execution_count": 23,
   "id": "3d73f130",
   "metadata": {},
   "outputs": [],
   "source": [
    "a = [1,2,3,4,5,6,7,8]"
   ]
  },
  {
   "cell_type": "code",
   "execution_count": 24,
   "id": "b7197849",
   "metadata": {},
   "outputs": [],
   "source": [
    "a.append(98)"
   ]
  },
  {
   "cell_type": "code",
   "execution_count": 25,
   "id": "119f0363",
   "metadata": {},
   "outputs": [
    {
     "data": {
      "text/plain": [
       "[1, 2, 3, 4, 5, 6, 7, 8, 98]"
      ]
     },
     "execution_count": 25,
     "metadata": {},
     "output_type": "execute_result"
    }
   ],
   "source": [
    "a"
   ]
  },
  {
   "cell_type": "markdown",
   "id": "5f9dab3c",
   "metadata": {},
   "source": [
    "Insert: Add itemsat specific positions on the users demand"
   ]
  },
  {
   "cell_type": "code",
   "execution_count": 26,
   "id": "97e8f790",
   "metadata": {},
   "outputs": [],
   "source": [
    "a.insert(3,4)"
   ]
  },
  {
   "cell_type": "code",
   "execution_count": 27,
   "id": "9babcdad",
   "metadata": {},
   "outputs": [
    {
     "data": {
      "text/plain": [
       "[1, 2, 3, 4, 4, 5, 6, 7, 8, 98]"
      ]
     },
     "execution_count": 27,
     "metadata": {},
     "output_type": "execute_result"
    }
   ],
   "source": [
    "a"
   ]
  },
  {
   "cell_type": "code",
   "execution_count": 29,
   "id": "8faa3539",
   "metadata": {},
   "outputs": [],
   "source": [
    "a.insert(-1,68)"
   ]
  },
  {
   "cell_type": "code",
   "execution_count": 30,
   "id": "dab6218f",
   "metadata": {},
   "outputs": [
    {
     "data": {
      "text/plain": [
       "[1, 2, 3, 4, 4, 5, 6, 7, 8, 68, 98]"
      ]
     },
     "execution_count": 30,
     "metadata": {},
     "output_type": "execute_result"
    }
   ],
   "source": [
    "a"
   ]
  },
  {
   "cell_type": "markdown",
   "id": "667ef820",
   "metadata": {},
   "source": [
    "pop; use to delete data at specific index number"
   ]
  },
  {
   "cell_type": "code",
   "execution_count": 31,
   "id": "ee9752e0",
   "metadata": {},
   "outputs": [
    {
     "data": {
      "text/plain": [
       "1"
      ]
     },
     "execution_count": 31,
     "metadata": {},
     "output_type": "execute_result"
    }
   ],
   "source": [
    "a.pop(0)"
   ]
  },
  {
   "cell_type": "code",
   "execution_count": 32,
   "id": "ee66e07c",
   "metadata": {},
   "outputs": [
    {
     "data": {
      "text/plain": [
       "[2, 3, 4, 4, 5, 6, 7, 8, 68, 98]"
      ]
     },
     "execution_count": 32,
     "metadata": {},
     "output_type": "execute_result"
    }
   ],
   "source": [
    "a"
   ]
  },
  {
   "cell_type": "code",
   "execution_count": 33,
   "id": "7b6683fe",
   "metadata": {},
   "outputs": [],
   "source": [
    "# remove: use to remove specific element from the list \n",
    "\n",
    "a = ['anshum', 'shruti', 'anita', 'prince']"
   ]
  },
  {
   "cell_type": "code",
   "execution_count": 34,
   "id": "f2debeac",
   "metadata": {},
   "outputs": [],
   "source": [
    "a.remove('anita')"
   ]
  },
  {
   "cell_type": "code",
   "execution_count": 35,
   "id": "38bd3d74",
   "metadata": {},
   "outputs": [
    {
     "data": {
      "text/plain": [
       "['anshum', 'shruti', 'prince']"
      ]
     },
     "execution_count": 35,
     "metadata": {},
     "output_type": "execute_result"
    }
   ],
   "source": [
    "a"
   ]
  },
  {
   "cell_type": "code",
   "execution_count": 36,
   "id": "9efc29e2",
   "metadata": {},
   "outputs": [],
   "source": [
    "# clear used the clear the list \n",
    "\n",
    "a = [1,2,3,4]"
   ]
  },
  {
   "cell_type": "code",
   "execution_count": 37,
   "id": "a27a28aa",
   "metadata": {},
   "outputs": [],
   "source": [
    "a.clear()"
   ]
  },
  {
   "cell_type": "code",
   "execution_count": 38,
   "id": "a53ea7eb",
   "metadata": {},
   "outputs": [
    {
     "data": {
      "text/plain": [
       "[]"
      ]
     },
     "execution_count": 38,
     "metadata": {},
     "output_type": "execute_result"
    }
   ],
   "source": [
    "a"
   ]
  },
  {
   "cell_type": "code",
   "execution_count": 39,
   "id": "c38f7b02",
   "metadata": {},
   "outputs": [],
   "source": [
    "# extend \n",
    "\n",
    "a = [1,2,3,4,5,]"
   ]
  },
  {
   "cell_type": "code",
   "execution_count": 40,
   "id": "bdeeed1c",
   "metadata": {},
   "outputs": [],
   "source": [
    "b = ['anshum','banga']"
   ]
  },
  {
   "cell_type": "code",
   "execution_count": 41,
   "id": "958cc394",
   "metadata": {},
   "outputs": [],
   "source": [
    "a.extend(b)"
   ]
  },
  {
   "cell_type": "code",
   "execution_count": 42,
   "id": "702629b1",
   "metadata": {},
   "outputs": [
    {
     "data": {
      "text/plain": [
       "[1, 2, 3, 4, 5, 'anshum', 'banga']"
      ]
     },
     "execution_count": 42,
     "metadata": {},
     "output_type": "execute_result"
    }
   ],
   "source": [
    "a"
   ]
  },
  {
   "cell_type": "code",
   "execution_count": null,
   "id": "1fbb783e",
   "metadata": {},
   "outputs": [],
   "source": []
  }
 ],
 "metadata": {
  "kernelspec": {
   "display_name": "Python 3 (ipykernel)",
   "language": "python",
   "name": "python3"
  },
  "language_info": {
   "codemirror_mode": {
    "name": "ipython",
    "version": 3
   },
   "file_extension": ".py",
   "mimetype": "text/x-python",
   "name": "python",
   "nbconvert_exporter": "python",
   "pygments_lexer": "ipython3",
   "version": "3.11.4"
  }
 },
 "nbformat": 4,
 "nbformat_minor": 5
}
