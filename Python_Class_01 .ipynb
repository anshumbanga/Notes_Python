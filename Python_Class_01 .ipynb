{
 "cells": [
  {
   "cell_type": "markdown",
   "id": "b438a2d6",
   "metadata": {},
   "source": [
    "# Python \n",
    "\n",
    "Python is a high-level programming language known for its simplicity, readability, and versatility. It supports multiple programming paradigms, has a comprehensive standard library, and is widely used in various fields such as web development, data analysis, and artificial intelligence."
   ]
  },
  {
   "cell_type": "markdown",
   "id": "7a5f512e",
   "metadata": {},
   "source": [
    "Sure, here are the key features of Python listed in bullet points:\n",
    "- **Interpreted Language:** Python executes code line by line, allowing for immediate feedback and rapid development.\n",
    "- **Case Sensitivity:** Python is case-sensitive, meaning variables and identifiers must be typed consistently throughout the code.\n",
    "- **High-Level Language:** Python abstracts low-level details, providing a simpler and more intuitive syntax for developers.\n",
    "- **Simplicity and Readability**: Python's syntax is straightforward and easy to understand.\n",
    "- **Interpreted and Interactive**: Code is executed line by line, facilitating rapid development and experimentation.\n",
    "- **Object-Oriented**: Supports OOP principles, allowing the creation of reusable code through classes and objects.\n",
    "- **Functional Programming**: Supports functional programming paradigms like lambda functions and list comprehensions.\n",
    "- **Comprehensive Standard Library**: Includes a vast collection of modules and libraries for various tasks.\n",
    "- **Cross-Platform**: Code can run on multiple platforms without modification.\n",
    "- **Community and Ecosystem**: Large and active community contributing libraries, frameworks, and tools.\n",
    "- **Embeddable and Extensible**: Can be embedded within other applications and extended with modules in languages like C and C++.\n",
    "\n",
    "Python is a versatile programming language used across various domains and industries. **Some of the prominent areas where Python finds application include:**\n",
    "\n",
    "- Web Development: Python is widely used for web development, with frameworks like Django, Flask, and Pyramid providing robust solutions for building scalable web applications.\n",
    "\n",
    "- Data Science and Machine Learning: Python has become the de facto language for data science and machine learning tasks. Libraries such as NumPy, Pandas, Matplotlib, and scikit-learn make it easy to perform data analysis, visualization, and machine learning modeling.\n",
    "\n",
    "- Artificial Intelligence and Natural Language Processing: Python's simplicity and powerful libraries such as TensorFlow, Keras, PyTorch, and NLTK have made it the preferred choice for developing AI-powered applications, including chatbots, virtual assistants, and sentiment analysis tools.\n",
    "\n",
    "- Scientific Computing: Python is extensively used in scientific computing and computational research due to its rich ecosystem of libraries like SciPy, SymPy, and OpenCV, which facilitate tasks such as numerical integration, symbolic mathematics, and image processing.\n",
    "\n",
    "- Automation and Scripting: Python's ease of use and readability make it ideal for automation tasks and scripting. It is commonly used for writing scripts to automate repetitive tasks, system administration, and managing infrastructure.\n",
    "\n",
    "- Game Development: Python is increasingly being used in game development, with frameworks like Pygame providing tools for creating 2D games and libraries like Panda3D and Unity Python SDK enabling the development of 3D games.\n",
    "\n",
    "- Backend Development: Python is widely used for backend development, powering the server-side logic of applications. Frameworks like Django, Flask, and FastAPI provide powerful tools for building RESTful APIs and microservices."
   ]
  },
  {
   "cell_type": "markdown",
   "id": "c4cc0690",
   "metadata": {},
   "source": [
    "# Topics covered\n",
    "\n",
    "### Practical topics \n",
    "- Variable \n",
    "- Data Types\n",
    "- Escape Sequence \n",
    "- Print statements \n",
    "\n",
    "### Reading Topics \n",
    "- Keywords in Python\n",
    "- Python Tokens\n",
    "    - Data Types(Imp)"
   ]
  },
  {
   "cell_type": "markdown",
   "id": "e3a67c6b",
   "metadata": {},
   "source": [
    "**Variables** are used to store data values. They act as placeholders for various types of data, such as numbers, strings, lists, or objects.\n",
    "\n",
    "**Rules for assigning a variable:**\n",
    "- Variable names must start with a letter or underscore (_), followed by letters, numbers, or underscores.\n",
    "- Variable names are case-sensitive.\n",
    "- No special characters (except underscores) are allowed in variable names.\n",
    "- Keywords cannot be used for assigning a variable like if-else, elif, print, while, def, etc"
   ]
  },
  {
   "cell_type": "code",
   "execution_count": 12,
   "id": "6b029bfc",
   "metadata": {},
   "outputs": [],
   "source": [
    "# Examples for assigning a variable \n",
    "a =1\n",
    "_b =1\n",
    "_c_ =1\n",
    "_9 =1"
   ]
  },
  {
   "cell_type": "code",
   "execution_count": 13,
   "id": "d86fcac7",
   "metadata": {},
   "outputs": [
    {
     "ename": "SyntaxError",
     "evalue": "cannot assign to literal here. Maybe you meant '==' instead of '='? (3852838908.py, line 3)",
     "output_type": "error",
     "traceback": [
      "\u001b[1;36m  Cell \u001b[1;32mIn[13], line 3\u001b[1;36m\u001b[0m\n\u001b[1;33m    9 =1\u001b[0m\n\u001b[1;37m    ^\u001b[0m\n\u001b[1;31mSyntaxError\u001b[0m\u001b[1;31m:\u001b[0m cannot assign to literal here. Maybe you meant '==' instead of '='?\n"
     ]
    }
   ],
   "source": [
    "# Examples to avoid characters while assigning a vaiable\n",
    "\n",
    "9 =1 \n",
    "*a =1 \n",
    "print =1"
   ]
  },
  {
   "cell_type": "markdown",
   "id": "41762cff",
   "metadata": {},
   "source": [
    "A **Token** is the smallest unit of a program's code structure. Tokens are the building blocks of a Python program and are categorized into several types. Here are the main types of tokens in Python:\n",
    "\n",
    "- **Keywords:** Keywords are reserved words that have special meaning in Python. Examples include if, else, for, while, def, class, etc. These keywords cannot be used as identifiers or variable names.\n",
    "\n",
    "- **Identifiers:** Identifiers are names given to variables, functions, classes, modules, or other objects in Python. They must follow certain rules, such as starting with a letter or underscore, and can contain letters, numbers, and underscores.\n",
    "\n",
    "- **Literals:** Literals are constant values that are directly assigned to variables or used in expressions. Examples include numeric literals like integers (10, 3.14), string literals (\"hello\"), boolean literals (True, False), and special literals like None.\n",
    "\n",
    "- **Operators:** Operators are symbols that perform operations on variables and values. Python supports various types of operators, including arithmetic operators (+, -, *, /), comparison operators (==, !=, <, >), logical operators (and, or, not), assignment operators (=, +=, -=), etc.\n",
    "\n",
    "- **Delimiters:** Delimiters are symbols used to define the structure of Python code. Examples include parentheses (), square brackets [], curly braces {}, commas ,, colons :, semicolons ;, etc."
   ]
  },
  {
   "cell_type": "markdown",
   "id": "7be68d73",
   "metadata": {},
   "source": [
    "#### Operators in Depth\n",
    "\n",
    "Operators in Python are symbols or special keywords used to perform operations on operands (variables or values). Python supports various types of operators, including:\n",
    "\n",
    "**Arithmetic Operators:** Used to perform mathematical operations such as addition, subtraction, multiplication, division, modulus, and exponentiation."
   ]
  },
  {
   "cell_type": "code",
   "execution_count": 15,
   "id": "e9ef5fa0",
   "metadata": {},
   "outputs": [],
   "source": [
    "+   # Addition\n",
    "-   # Subtraction\n",
    "*   # Multiplication\n",
    "/   # Division\n",
    "%   # Modulus (remainder)\n",
    "**  # Exponentiation"
   ]
  },
  {
   "cell_type": "markdown",
   "id": "16ddefc3",
   "metadata": {},
   "source": [
    "**Comparison Operators:** Used to compare values and return True or False. Common comparison operators include equal to, not equal to, greater than, less than, greater than or equal to, and less than or equal to."
   ]
  },
  {
   "cell_type": "code",
   "execution_count": null,
   "id": "b58c8a8a",
   "metadata": {},
   "outputs": [],
   "source": [
    "==   # Equal to\n",
    "!=   # Not equal to\n",
    ">    # Greater than\n",
    "<    # Less than\n",
    ">=   # Greater than or equal to\n",
    "<=   # Less than or equal to"
   ]
  },
  {
   "cell_type": "markdown",
   "id": "522b0880",
   "metadata": {},
   "source": [
    "**Logical Operators:** Used to combine multiple conditions and return True or False. Common logical operators include AND, OR, and NOT."
   ]
  },
  {
   "cell_type": "code",
   "execution_count": null,
   "id": "3ef9e7be",
   "metadata": {},
   "outputs": [],
   "source": [
    "and   # Logical AND\n",
    "or    # Logical OR\n",
    "not   # Logical NOT"
   ]
  },
  {
   "cell_type": "markdown",
   "id": "30be0665",
   "metadata": {},
   "source": [
    "**Assignment Operators:** Used to assign values to variables. They combine assignment with arithmetic or bitwise operators."
   ]
  },
  {
   "cell_type": "code",
   "execution_count": null,
   "id": "52ec4300",
   "metadata": {},
   "outputs": [],
   "source": [
    "=    # Assign\n",
    "+=   # Add and assign\n",
    "-=   # Subtract and assign\n",
    "*=   # Multiply and assign"
   ]
  },
  {
   "cell_type": "markdown",
   "id": "5a2b44de",
   "metadata": {},
   "source": [
    "**Identity Operators:** Used to compare the memory locations of two objects"
   ]
  },
  {
   "cell_type": "code",
   "execution_count": null,
   "id": "9653734b",
   "metadata": {},
   "outputs": [],
   "source": [
    "is    # Returns True if both variables point to the same object\n",
    "is not   # Returns True if both variables point to different objects"
   ]
  },
  {
   "cell_type": "markdown",
   "id": "9811c4d8",
   "metadata": {},
   "source": [
    "## Built in functions\n",
    "\n",
    "Python comes with a rich set of **built-in functions** that provide essential functionality for various tasks. Here are some commonly used built-in functions in Python:\n",
    "\n",
    "**print():** Prints the specified message or value to the standard output (usually the console).\n",
    "\n",
    "**len():** Returns the length (number of items) of an object such as a string, list, tuple, or dictionary.\n",
    "\n",
    "**input():** Reads input from the user through the console and returns it as a string.\n",
    "\n",
    "**type():** Returns the type of an object.\n",
    "\n",
    "**int(), float(), str(), bool():** Convert values to integers, floating-point numbers, strings, or booleans, respectively."
   ]
  },
  {
   "cell_type": "markdown",
   "id": "9f451645",
   "metadata": {},
   "source": [
    "## Data Types\n",
    "\n",
    "In Python, data types represent the kind of value that a variable can hold. Each data type defines the type of data that can be stored and the operations that can be performed on it. Here are the main data types in Python:\n",
    "\n",
    "**Numeric Types:**\n",
    "\n",
    "int: Integer values, e.g., 10, -5, 1000.\n",
    "float: Floating-point values, e.g., 3.14, -0.5, 2.0.\n",
    "\n",
    "**Boolean Type:**\n",
    "\n",
    "bool: Boolean values representing True or False.\n",
    "\n",
    "**Sequence Types:**\n",
    "\n",
    "str: String values, e.g., \"hello\", \"world\""
   ]
  },
  {
   "cell_type": "code",
   "execution_count": 16,
   "id": "34af0fa4",
   "metadata": {},
   "outputs": [],
   "source": [
    "a = 1\n",
    "b = 0.1\n",
    "c = True\n",
    "d = \"Anshum\""
   ]
  },
  {
   "cell_type": "code",
   "execution_count": 20,
   "id": "9396254b",
   "metadata": {},
   "outputs": [
    {
     "name": "stdout",
     "output_type": "stream",
     "text": [
      "<class 'int'>\n",
      "<class 'float'>\n",
      "<class 'bool'>\n",
      "<class 'str'>\n"
     ]
    }
   ],
   "source": [
    "print(type(a))\n",
    "print(type(b))\n",
    "print(type(c))\n",
    "print(type(d))"
   ]
  },
  {
   "cell_type": "markdown",
   "id": "afca8587",
   "metadata": {},
   "source": [
    "### Comments\n",
    "\n",
    "In Python, **comments** are used to annotate code for better understanding, documentation, and clarification. Comments are ignored by the Python interpreter during code execution."
   ]
  },
  {
   "cell_type": "code",
   "execution_count": 1,
   "id": "2bbcde80",
   "metadata": {},
   "outputs": [],
   "source": [
    "#For Example \n",
    "\n",
    "# This is a single-line comment"
   ]
  },
  {
   "cell_type": "markdown",
   "id": "b63e221d",
   "metadata": {},
   "source": [
    "### Escape Sequences\n",
    "\n",
    "In Python, **escape sequences** are special characters preceded by a backslash (\\) that are used to represent characters that cannot be easily typed or displayed directly. Escape sequences are commonly used in strings to represent newline characters, tab characters, and other special characters.\n",
    "\n",
    "Here's an explanation with examples:\n",
    "\n",
    "**Newline (\\n):** Used to insert a new line in a string."
   ]
  },
  {
   "cell_type": "code",
   "execution_count": 4,
   "id": "a0628a8c",
   "metadata": {},
   "outputs": [
    {
     "name": "stdout",
     "output_type": "stream",
     "text": [
      "Hello\n",
      "World\n"
     ]
    }
   ],
   "source": [
    "print(\"Hello\\nWorld\")"
   ]
  },
  {
   "cell_type": "markdown",
   "id": "62456383",
   "metadata": {},
   "source": [
    "**Tab (\\t):** Used to insert a tab character in a string."
   ]
  },
  {
   "cell_type": "code",
   "execution_count": 5,
   "id": "4fb6117e",
   "metadata": {},
   "outputs": [
    {
     "name": "stdout",
     "output_type": "stream",
     "text": [
      "Hello\tWorld\n"
     ]
    }
   ],
   "source": [
    "print(\"Hello\\tWorld\")"
   ]
  },
  {
   "cell_type": "markdown",
   "id": "e044c267",
   "metadata": {},
   "source": [
    "**Backslash (\\\\):** Used to insert a backslash character in a string."
   ]
  },
  {
   "cell_type": "code",
   "execution_count": 6,
   "id": "6d0b41e9",
   "metadata": {},
   "outputs": [
    {
     "name": "stdout",
     "output_type": "stream",
     "text": [
      "This is a backslash: \\\n"
     ]
    }
   ],
   "source": [
    "print(\"This is a backslash: \\\\\")"
   ]
  },
  {
   "cell_type": "markdown",
   "id": "27432d37",
   "metadata": {},
   "source": [
    "**Single Quote (\\'):** Used to insert a single quote character in a string enclosed by single quotes."
   ]
  },
  {
   "cell_type": "code",
   "execution_count": 8,
   "id": "9f797e82",
   "metadata": {},
   "outputs": [
    {
     "name": "stdout",
     "output_type": "stream",
     "text": [
      "Don't worry\n"
     ]
    }
   ],
   "source": [
    "print('Don\\'t worry')"
   ]
  },
  {
   "cell_type": "markdown",
   "id": "7a000923",
   "metadata": {},
   "source": [
    "**Double Quote (\\\"):** Used to insert a double quote character in a string enclosed by double "
   ]
  },
  {
   "cell_type": "code",
   "execution_count": 9,
   "id": "2fc4ae68",
   "metadata": {},
   "outputs": [
    {
     "name": "stdout",
     "output_type": "stream",
     "text": [
      "He said, \"Hello!\"\n"
     ]
    }
   ],
   "source": [
    "print(\"He said, \\\"Hello!\\\"\")"
   ]
  }
 ],
 "metadata": {
  "kernelspec": {
   "display_name": "Python 3 (ipykernel)",
   "language": "python",
   "name": "python3"
  },
  "language_info": {
   "codemirror_mode": {
    "name": "ipython",
    "version": 3
   },
   "file_extension": ".py",
   "mimetype": "text/x-python",
   "name": "python",
   "nbconvert_exporter": "python",
   "pygments_lexer": "ipython3",
   "version": "3.11.3"
  }
 },
 "nbformat": 4,
 "nbformat_minor": 5
}
