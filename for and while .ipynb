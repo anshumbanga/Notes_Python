{
 "cells": [
  {
   "cell_type": "markdown",
   "id": "07a29d95",
   "metadata": {},
   "source": [
    "#### in our life, there are certain thing we repeat everyday like we cook food everyday, we eat food everyday \n",
    "#### lets, incase ur mother give your mother says, fill all the bottles and stack them in fridge, so you will fill bottles and stack them one by one \n",
    "#### also in python like i give you a task , to print one by 1 whole numbers upto 100\n",
    "\n"
   ]
  },
  {
   "cell_type": "markdown",
   "id": "223ca0ad",
   "metadata": {},
   "source": [
    "# Loops in python \n",
    "\n",
    "Sometimes a programmer wants to execute a group of statements a certain number of times . This can be done using loops.\n",
    "\n",
    "## based on this loops are further classified into two categories:\n",
    "- nfor loop\n",
    "- while loop\n",
    "- nested loops \n",
    "\n",
    "## for loop \n",
    "\n",
    "for loops can iterate over a sequence of iterable objects in python. iterating over a sequence is nothing but iterating over strings, lists, tuples, sets and dictionaries \n",
    "\n"
   ]
  },
  {
   "cell_type": "code",
   "execution_count": 6,
   "id": "ab0b66ad",
   "metadata": {},
   "outputs": [
    {
     "name": "stdout",
     "output_type": "stream",
     "text": [
      "1\n",
      "2\n",
      "3\n",
      "4\n",
      "5\n",
      "6\n",
      "7\n",
      "8\n",
      "9\n",
      "10\n"
     ]
    }
   ],
   "source": [
    "# LETS SAY I WANT TO PRINT WHOLE NUMBER UPTO 100\n",
    "# for later\n",
    "for i in range(1,11):\n",
    "    print(i)"
   ]
  },
  {
   "cell_type": "code",
   "execution_count": 9,
   "id": "c625400b",
   "metadata": {},
   "outputs": [
    {
     "name": "stdout",
     "output_type": "stream",
     "text": [
      "s\n",
      "h\n",
      "r\n",
      "u\n",
      "t\n",
      "i\n"
     ]
    }
   ],
   "source": [
    "# python mein iterable objects, strings , lists etc \n",
    "\n",
    "s1 = \"shruti\" #character\n",
    "\n",
    "for i in s1:\n",
    "    print(i)"
   ]
  },
  {
   "cell_type": "code",
   "execution_count": 10,
   "id": "e634038d",
   "metadata": {},
   "outputs": [
    {
     "name": "stdout",
     "output_type": "stream",
     "text": [
      "s\n",
      "this is s\n",
      "h\n",
      "r\n",
      "u\n",
      "t\n",
      "i\n"
     ]
    }
   ],
   "source": [
    "# nested \n",
    "\n",
    "for i in s1:\n",
    "    print(i)\n",
    "    if i=='s':\n",
    "        print(\"this is s\")"
   ]
  },
  {
   "cell_type": "code",
   "execution_count": 11,
   "id": "761ebaeb",
   "metadata": {},
   "outputs": [
    {
     "name": "stdout",
     "output_type": "stream",
     "text": [
      "Shruti\n",
      "prince\n",
      "arshdeep\n",
      "Ekam\n"
     ]
    }
   ],
   "source": [
    "# same in lists \n",
    "\n",
    "stud = [\"Shruti\", \"prince\", \"arshdeep\", \"Ekam\"]\n",
    "\n",
    "for i in stud:\n",
    "    print(i)\n"
   ]
  },
  {
   "cell_type": "code",
   "execution_count": 12,
   "id": "ffc5233b",
   "metadata": {},
   "outputs": [
    {
     "name": "stdout",
     "output_type": "stream",
     "text": [
      "Shruti\n",
      "prince\n",
      "arshdeep\n",
      "Ekam\n"
     ]
    }
   ],
   "source": [
    "# or it could be \n",
    "\n",
    "for student in stud:\n",
    "    print(student)"
   ]
  },
  {
   "cell_type": "code",
   "execution_count": 13,
   "id": "ac95f862",
   "metadata": {},
   "outputs": [
    {
     "name": "stdout",
     "output_type": "stream",
     "text": [
      "Shruti\n",
      "S\n",
      "h\n",
      "r\n",
      "u\n",
      "t\n",
      "i\n",
      "prince\n",
      "p\n",
      "r\n",
      "i\n",
      "n\n",
      "c\n",
      "e\n",
      "arshdeep\n",
      "a\n",
      "r\n",
      "s\n",
      "h\n",
      "d\n",
      "e\n",
      "e\n",
      "p\n",
      "Ekam\n",
      "E\n",
      "k\n",
      "a\n",
      "m\n"
     ]
    }
   ],
   "source": [
    "# nested \n",
    "\n",
    "for student in stud:\n",
    "    print(student)\n",
    "    for i in student:\n",
    "        print(i)"
   ]
  },
  {
   "cell_type": "code",
   "execution_count": 14,
   "id": "6f26ef8b",
   "metadata": {},
   "outputs": [],
   "source": [
    "# tuples, dictionaries, etc \n",
    "\n",
    "# for sabse zyada use aata \n",
    "\n",
    "# lets i have told you print 100 chars "
   ]
  },
  {
   "cell_type": "code",
   "execution_count": 16,
   "id": "758e39ad",
   "metadata": {},
   "outputs": [
    {
     "name": "stdout",
     "output_type": "stream",
     "text": [
      "0\n",
      "1\n",
      "2\n",
      "3\n",
      "4\n"
     ]
    }
   ],
   "source": [
    "# will use range \n",
    "# RANGE STARTS WITH 0 \n",
    "# RANGE GOES UPTO N-1\n",
    "\n",
    "for k in range(5): # by default it will start from zero\n",
    "    print(k)"
   ]
  },
  {
   "cell_type": "code",
   "execution_count": 17,
   "id": "4d7db267",
   "metadata": {},
   "outputs": [
    {
     "name": "stdout",
     "output_type": "stream",
     "text": [
      "1\n",
      "2\n",
      "3\n",
      "4\n",
      "5\n"
     ]
    }
   ],
   "source": [
    "for k in range(5): # by default it will start from zero\n",
    "    print(k+1)"
   ]
  },
  {
   "cell_type": "code",
   "execution_count": 19,
   "id": "74c55640",
   "metadata": {},
   "outputs": [
    {
     "name": "stdout",
     "output_type": "stream",
     "text": [
      "1\n",
      "2\n",
      "3\n",
      "4\n",
      "5\n"
     ]
    }
   ],
   "source": [
    "for k in range(1,6): # by default it will start from zero\n",
    "    print(k)"
   ]
  },
  {
   "cell_type": "code",
   "execution_count": 20,
   "id": "2f65d5d6",
   "metadata": {},
   "outputs": [],
   "source": [
    "# RANGE(START:STOP:STEP)\n",
    "# STEP WILL EMIT SOME VALUES \n",
    "\n",
    "# examples write table using this\n"
   ]
  },
  {
   "cell_type": "code",
   "execution_count": 1,
   "id": "661cdae2",
   "metadata": {},
   "outputs": [],
   "source": [
    "# while loop\n",
    "\n",
    "# why it is added in python\n",
    "\n",
    "\n"
   ]
  },
  {
   "cell_type": "code",
   "execution_count": 3,
   "id": "3ff5e871",
   "metadata": {},
   "outputs": [
    {
     "name": "stdout",
     "output_type": "stream",
     "text": [
      "1\n",
      "2\n",
      "3\n",
      "4\n",
      "5\n",
      "6\n",
      "7\n",
      "loop is terminated\n"
     ]
    }
   ],
   "source": [
    "i =1\n",
    "while(i<8):\n",
    "    print(i)\n",
    "    i+=1\n",
    "    \n",
    "print(\"loop is terminated\")"
   ]
  },
  {
   "cell_type": "code",
   "execution_count": null,
   "id": "9c6da1f5",
   "metadata": {},
   "outputs": [],
   "source": []
  }
 ],
 "metadata": {
  "kernelspec": {
   "display_name": "Python 3 (ipykernel)",
   "language": "python",
   "name": "python3"
  },
  "language_info": {
   "codemirror_mode": {
    "name": "ipython",
    "version": 3
   },
   "file_extension": ".py",
   "mimetype": "text/x-python",
   "name": "python",
   "nbconvert_exporter": "python",
   "pygments_lexer": "ipython3",
   "version": "3.11.4"
  }
 },
 "nbformat": 4,
 "nbformat_minor": 5
}
