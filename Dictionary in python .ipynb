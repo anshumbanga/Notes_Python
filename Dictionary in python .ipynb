{
 "cells": [
  {
   "cell_type": "markdown",
   "id": "3340ff02",
   "metadata": {},
   "source": [
    "# dictioneries \n",
    "\n",
    "- They are mutable \n",
    "- They are ordered**(In previous versions of pythons, dictioneries were unordered, now they are ordered )\n",
    "    - Lets say maanlo main iski keys ko agr print krunga to baar baar wo ussi order mein milengi \n",
    "    \n",
    "- "
   ]
  },
  {
   "cell_type": "code",
   "execution_count": 1,
   "id": "1ba4518d",
   "metadata": {},
   "outputs": [],
   "source": [
    "dic = {\n",
    "    12: \"Anshum\",\n",
    "    13: \"Shruti\",\n",
    "    14: \"Prince\",\n",
    "    15: \"Arshdeep\"\n",
    "}"
   ]
  },
  {
   "cell_type": "code",
   "execution_count": 2,
   "id": "3fbf61dc",
   "metadata": {},
   "outputs": [
    {
     "data": {
      "text/plain": [
       "{12: 'Anshum', 13: 'Shruti', 14: 'Prince', 15: 'Arshdeep'}"
      ]
     },
     "execution_count": 2,
     "metadata": {},
     "output_type": "execute_result"
    }
   ],
   "source": [
    "dic"
   ]
  },
  {
   "cell_type": "code",
   "execution_count": 3,
   "id": "c3a2d923",
   "metadata": {},
   "outputs": [
    {
     "data": {
      "text/plain": [
       "'Anshum'"
      ]
     },
     "execution_count": 3,
     "metadata": {},
     "output_type": "execute_result"
    }
   ],
   "source": [
    "# writing key could make values pop\n",
    "\n",
    "dic[12]"
   ]
  },
  {
   "cell_type": "code",
   "execution_count": 4,
   "id": "5fd1964d",
   "metadata": {},
   "outputs": [],
   "source": [
    "dic = {\n",
    "    'Name': \"Anshum\",\n",
    "    'class': 12,\n",
    "    \"marks\": 99,\n",
    "    'grade': \"A\"\n",
    "}"
   ]
  },
  {
   "cell_type": "code",
   "execution_count": 6,
   "id": "80df88ad",
   "metadata": {},
   "outputs": [
    {
     "data": {
      "text/plain": [
       "'Anshum'"
      ]
     },
     "execution_count": 6,
     "metadata": {},
     "output_type": "execute_result"
    }
   ],
   "source": [
    "# there are 2 ways to access key values \n",
    "# this will give error\n",
    "\n",
    "dic['Name']"
   ]
  },
  {
   "cell_type": "code",
   "execution_count": 10,
   "id": "3d607764",
   "metadata": {},
   "outputs": [
    {
     "name": "stdout",
     "output_type": "stream",
     "text": [
      "Anshum\n"
     ]
    }
   ],
   "source": [
    "# this will give no error\n",
    "\n",
    "print(dic.get('Name'))"
   ]
  },
  {
   "cell_type": "code",
   "execution_count": 12,
   "id": "0d42fbbd",
   "metadata": {},
   "outputs": [
    {
     "data": {
      "text/plain": [
       "dict_keys(['Name', 'class', 'marks', 'grade'])"
      ]
     },
     "execution_count": 12,
     "metadata": {},
     "output_type": "execute_result"
    }
   ],
   "source": [
    "# how to access multiple values \n",
    "\n",
    "dic.keys()"
   ]
  },
  {
   "cell_type": "code",
   "execution_count": 19,
   "id": "b682e651",
   "metadata": {},
   "outputs": [
    {
     "name": "stdout",
     "output_type": "stream",
     "text": [
      "Anshum\n",
      "Name\n",
      "12\n",
      "class\n",
      "99\n",
      "marks\n",
      "A\n",
      "grade\n"
     ]
    }
   ],
   "source": [
    "for i in dic.keys():\n",
    "    print(dic[i])\n",
    "    print(i)"
   ]
  },
  {
   "cell_type": "code",
   "execution_count": 21,
   "id": "52c2aeef",
   "metadata": {},
   "outputs": [
    {
     "name": "stdout",
     "output_type": "stream",
     "text": [
      "dict_values(['Anshum', 12, 99, 'A'])\n"
     ]
    }
   ],
   "source": [
    "# view valuess\n",
    "\n",
    "print(dic.values())"
   ]
  },
  {
   "cell_type": "code",
   "execution_count": 24,
   "id": "dfcdc336",
   "metadata": {},
   "outputs": [
    {
     "name": "stdout",
     "output_type": "stream",
     "text": [
      "value responding to the key Name\n",
      "values Anshum\n",
      "value responding to the key class\n",
      "values 12\n",
      "value responding to the key marks\n",
      "values 99\n",
      "value responding to the key grade\n",
      "values A\n"
     ]
    }
   ],
   "source": [
    "for i in dic.keys():\n",
    "    print('value responding to the key',i)\n",
    "    print('values',dic[i])\n",
    "    "
   ]
  },
  {
   "cell_type": "code",
   "execution_count": 25,
   "id": "a35bfd76",
   "metadata": {},
   "outputs": [
    {
     "data": {
      "text/plain": [
       "dict_items([('Name', 'Anshum'), ('class', 12), ('marks', 99), ('grade', 'A')])"
      ]
     },
     "execution_count": 25,
     "metadata": {},
     "output_type": "execute_result"
    }
   ],
   "source": [
    "dic.items()"
   ]
  },
  {
   "cell_type": "code",
   "execution_count": 27,
   "id": "12330ee2",
   "metadata": {},
   "outputs": [
    {
     "name": "stdout",
     "output_type": "stream",
     "text": [
      "Name Anshum\n",
      "class 12\n",
      "marks 99\n",
      "grade A\n"
     ]
    }
   ],
   "source": [
    "for key, value in dic.items():\n",
    "    print(key,value)"
   ]
  },
  {
   "cell_type": "code",
   "execution_count": 28,
   "id": "9365a6b7",
   "metadata": {},
   "outputs": [],
   "source": [
    "# dictionary methods \n"
   ]
  },
  {
   "cell_type": "code",
   "execution_count": 29,
   "id": "8b0fd2c4",
   "metadata": {},
   "outputs": [],
   "source": [
    "# update, it helps us to update the dictionaries \n",
    "\n",
    "ep = {122:45,123:98,124:98}  # employee id ki performance"
   ]
  },
  {
   "cell_type": "code",
   "execution_count": 30,
   "id": "60c410d9",
   "metadata": {},
   "outputs": [
    {
     "data": {
      "text/plain": [
       "{122: 45, 123: 98, 124: 98}"
      ]
     },
     "execution_count": 30,
     "metadata": {},
     "output_type": "execute_result"
    }
   ],
   "source": [
    "ep"
   ]
  },
  {
   "cell_type": "code",
   "execution_count": 31,
   "id": "d0736ff0",
   "metadata": {},
   "outputs": [],
   "source": [
    "ep1 = {221:98, 222:76,223:87}"
   ]
  },
  {
   "cell_type": "code",
   "execution_count": 32,
   "id": "596089b8",
   "metadata": {},
   "outputs": [],
   "source": [
    "ep.update(ep1)"
   ]
  },
  {
   "cell_type": "code",
   "execution_count": 33,
   "id": "536b245f",
   "metadata": {},
   "outputs": [
    {
     "data": {
      "text/plain": [
       "{122: 45, 123: 98, 124: 98, 221: 98, 222: 76, 223: 87}"
      ]
     },
     "execution_count": 33,
     "metadata": {},
     "output_type": "execute_result"
    }
   ],
   "source": [
    "ep"
   ]
  },
  {
   "cell_type": "code",
   "execution_count": 34,
   "id": "6196b750",
   "metadata": {},
   "outputs": [],
   "source": [
    "# clear: to clear all dictioneries \n",
    "\n",
    "ep.clear()"
   ]
  },
  {
   "cell_type": "code",
   "execution_count": 35,
   "id": "b10bfa2c",
   "metadata": {},
   "outputs": [
    {
     "data": {
      "text/plain": [
       "{}"
      ]
     },
     "execution_count": 35,
     "metadata": {},
     "output_type": "execute_result"
    }
   ],
   "source": [
    "ep"
   ]
  },
  {
   "cell_type": "code",
   "execution_count": 36,
   "id": "5255e176",
   "metadata": {},
   "outputs": [],
   "source": [
    "# loading it again \n",
    "ep = {122:45,123:98,124:98} "
   ]
  },
  {
   "cell_type": "code",
   "execution_count": 37,
   "id": "ba69d957",
   "metadata": {},
   "outputs": [
    {
     "data": {
      "text/plain": [
       "{122: 45, 123: 98, 124: 98}"
      ]
     },
     "execution_count": 37,
     "metadata": {},
     "output_type": "execute_result"
    }
   ],
   "source": [
    "ep"
   ]
  },
  {
   "cell_type": "code",
   "execution_count": 38,
   "id": "242bc769",
   "metadata": {},
   "outputs": [
    {
     "data": {
      "text/plain": [
       "45"
      ]
     },
     "execution_count": 38,
     "metadata": {},
     "output_type": "execute_result"
    }
   ],
   "source": [
    "# POP : it removes key value pairs \n",
    "\n",
    "ep.pop(122)"
   ]
  },
  {
   "cell_type": "code",
   "execution_count": 39,
   "id": "637e069c",
   "metadata": {},
   "outputs": [
    {
     "data": {
      "text/plain": [
       "{123: 98, 124: 98}"
      ]
     },
     "execution_count": 39,
     "metadata": {},
     "output_type": "execute_result"
    }
   ],
   "source": [
    "ep"
   ]
  },
  {
   "cell_type": "code",
   "execution_count": 40,
   "id": "8bf18d1f",
   "metadata": {},
   "outputs": [
    {
     "data": {
      "text/plain": [
       "(124, 98)"
      ]
     },
     "execution_count": 40,
     "metadata": {},
     "output_type": "execute_result"
    }
   ],
   "source": [
    "#pop item \n",
    "# it removes last key value pair \n",
    "\n",
    "ep.popitem()"
   ]
  },
  {
   "cell_type": "code",
   "execution_count": 41,
   "id": "2856dcb0",
   "metadata": {},
   "outputs": [
    {
     "data": {
      "text/plain": [
       "{123: 98}"
      ]
     },
     "execution_count": 41,
     "metadata": {},
     "output_type": "execute_result"
    }
   ],
   "source": [
    "ep"
   ]
  },
  {
   "cell_type": "code",
   "execution_count": 42,
   "id": "2b61d3ec",
   "metadata": {},
   "outputs": [],
   "source": [
    "# del keyword \n",
    "# it deletes the whole dictionery \n",
    "del ep "
   ]
  },
  {
   "cell_type": "code",
   "execution_count": 43,
   "id": "a757fa98",
   "metadata": {},
   "outputs": [
    {
     "ename": "NameError",
     "evalue": "name 'ep' is not defined",
     "output_type": "error",
     "traceback": [
      "\u001b[1;31m---------------------------------------------------------------------------\u001b[0m",
      "\u001b[1;31mNameError\u001b[0m                                 Traceback (most recent call last)",
      "Cell \u001b[1;32mIn[43], line 1\u001b[0m\n\u001b[1;32m----> 1\u001b[0m ep\n",
      "\u001b[1;31mNameError\u001b[0m: name 'ep' is not defined"
     ]
    }
   ],
   "source": [
    "ep"
   ]
  },
  {
   "cell_type": "code",
   "execution_count": 53,
   "id": "3c307801",
   "metadata": {},
   "outputs": [],
   "source": [
    "ep = {122:45,123:98,124:99} "
   ]
  },
  {
   "cell_type": "code",
   "execution_count": 54,
   "id": "d6eb131a",
   "metadata": {},
   "outputs": [],
   "source": [
    "# it will remove specific key\n",
    "del ep[122]"
   ]
  },
  {
   "cell_type": "code",
   "execution_count": 55,
   "id": "1c8f88ff",
   "metadata": {},
   "outputs": [
    {
     "data": {
      "text/plain": [
       "{123: 98, 124: 99}"
      ]
     },
     "execution_count": 55,
     "metadata": {},
     "output_type": "execute_result"
    }
   ],
   "source": [
    "ep"
   ]
  },
  {
   "cell_type": "code",
   "execution_count": 60,
   "id": "4eb17dda",
   "metadata": {},
   "outputs": [],
   "source": [
    "# set default \n",
    "\n",
    "ep.setdefault(13)\n",
    "\n",
    "# if in case key doesn't exists it will make the value"
   ]
  },
  {
   "cell_type": "code",
   "execution_count": 59,
   "id": "d18effcc",
   "metadata": {},
   "outputs": [
    {
     "data": {
      "text/plain": [
       "{123: 98, 124: 99, 13: None}"
      ]
     },
     "execution_count": 59,
     "metadata": {},
     "output_type": "execute_result"
    }
   ],
   "source": [
    "ep"
   ]
  },
  {
   "cell_type": "code",
   "execution_count": null,
   "id": "3a0ecb54",
   "metadata": {},
   "outputs": [],
   "source": []
  }
 ],
 "metadata": {
  "kernelspec": {
   "display_name": "Python 3 (ipykernel)",
   "language": "python",
   "name": "python3"
  },
  "language_info": {
   "codemirror_mode": {
    "name": "ipython",
    "version": 3
   },
   "file_extension": ".py",
   "mimetype": "text/x-python",
   "name": "python",
   "nbconvert_exporter": "python",
   "pygments_lexer": "ipython3",
   "version": "3.11.4"
  }
 },
 "nbformat": 4,
 "nbformat_minor": 5
}
